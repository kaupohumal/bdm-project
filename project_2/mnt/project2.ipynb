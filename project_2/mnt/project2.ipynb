{
 "cells": [
  {
   "cell_type": "code",
   "execution_count": 1,
   "id": "648f3b47-dcc8-42d3-90e9-b7b31f64d995",
   "metadata": {},
   "outputs": [],
   "source": [
    "from pyspark.sql import SparkSession\n",
    "from pyspark.sql.functions import *\n",
    "from pyspark.sql.types import StructType, StructField, StringType, IntegerType, DoubleType, TimestampType\n",
    "from delta import *\n",
    "import os\n",
    "import time\n",
    "# !pip install delta-spark"
   ]
  },
  {
   "cell_type": "code",
   "execution_count": 2,
   "id": "fe2f2b4c-08bd-4de6-b8ea-e1226b31049a",
   "metadata": {},
   "outputs": [],
   "source": [
    "# Create SparkSession with Delta Lake support\n",
    "builder = SparkSession.builder.appName(\"SensorDataWindow\") \\\n",
    "    .config(\"spark.sql.extensions\", \"io.delta.sql.DeltaSparkSessionExtension\") \\\n",
    "    .config(\"spark.sql.catalog.spark_catalog\", \"org.apache.spark.sql.delta.catalog.DeltaCatalog\") \\\n",
    "    .config(\"spark.driver.memory\", \"5g\")\n",
    "\n",
    "spark = configure_spark_with_delta_pip(builder).getOrCreate()"
   ]
  },
  {
   "cell_type": "code",
   "execution_count": 3,
   "id": "e8a4b9dd-a852-4d61-9eef-f62067969389",
   "metadata": {},
   "outputs": [],
   "source": [
    "schema = StructType([\n",
    "    StructField(\"medallion\", StringType(), True),\n",
    "    StructField(\"hack_license\", StringType(), True),\n",
    "    StructField(\"pickup_datetime\", TimestampType(), True),\n",
    "    StructField(\"dropoff_datetime\", TimestampType(), True),\n",
    "    StructField(\"trip_time_in_secs\", IntegerType(), True),\n",
    "    StructField(\"trip_distance\", DoubleType(), True),\n",
    "    StructField(\"pickup_longitude\", DoubleType(), True),\n",
    "    StructField(\"pickup_latitude\", DoubleType(), True),\n",
    "    StructField(\"dropoff_longitude\", DoubleType(), True),\n",
    "    StructField(\"dropoff_latitude\", DoubleType(), True),\n",
    "    StructField(\"payment_type\", StringType(), True),\n",
    "    StructField(\"fare_amount\", DoubleType(), True),\n",
    "    StructField(\"surcharge\", DoubleType(), True),\n",
    "    StructField(\"mta_tax\", DoubleType(), True),\n",
    "    StructField(\"tip_amount\", DoubleType(), True),\n",
    "    StructField(\"tolls_amount\", DoubleType(), True),\n",
    "    StructField(\"total_amount\", DoubleType(), True)\n",
    "])"
   ]
  },
  {
   "cell_type": "markdown",
   "id": "8e1d6c96",
   "metadata": {},
   "source": [
    "# Query 0"
   ]
  },
  {
   "cell_type": "code",
   "execution_count": 4,
   "id": "461072d8-e2fb-4ab6-84ce-4dbf0bce635d",
   "metadata": {},
   "outputs": [],
   "source": [
    "#original, unmodified dataset\n",
    "rides_df = (spark.read\n",
    "            .schema(schema)\n",
    "            .csv(\"input/minified_sorted_data.csv\") #path\n",
    "            )"
   ]
  },
  {
   "cell_type": "code",
   "execution_count": 5,
   "id": "1009cab5-4810-45ef-a210-23898c631c42",
   "metadata": {},
   "outputs": [
    {
     "name": "stdout",
     "output_type": "stream",
     "text": [
      "root\n",
      " |-- medallion: string (nullable = true)\n",
      " |-- hack_license: string (nullable = true)\n",
      " |-- pickup_datetime: timestamp (nullable = true)\n",
      " |-- dropoff_datetime: timestamp (nullable = true)\n",
      " |-- trip_time_in_secs: integer (nullable = true)\n",
      " |-- trip_distance: double (nullable = true)\n",
      " |-- pickup_longitude: double (nullable = true)\n",
      " |-- pickup_latitude: double (nullable = true)\n",
      " |-- dropoff_longitude: double (nullable = true)\n",
      " |-- dropoff_latitude: double (nullable = true)\n",
      " |-- payment_type: string (nullable = true)\n",
      " |-- fare_amount: double (nullable = true)\n",
      " |-- surcharge: double (nullable = true)\n",
      " |-- mta_tax: double (nullable = true)\n",
      " |-- tip_amount: double (nullable = true)\n",
      " |-- tolls_amount: double (nullable = true)\n",
      " |-- total_amount: double (nullable = true)\n",
      "\n"
     ]
    }
   ],
   "source": [
    "rides_df.printSchema()"
   ]
  },
  {
   "cell_type": "code",
   "execution_count": 6,
   "id": "c8fda01a-bf51-4eff-936d-6fd75bdf59d5",
   "metadata": {},
   "outputs": [
    {
     "name": "stdout",
     "output_type": "stream",
     "text": [
      "Removed 30 lines\n"
     ]
    }
   ],
   "source": [
    "# remove rows with null values\n",
    "initial_count = rides_df.count()\n",
    "rides_df = rides_df.dropna()\n",
    "\n",
    "print(f\"Removed {initial_count - rides_df.count()} lines\")"
   ]
  },
  {
   "cell_type": "code",
   "execution_count": 8,
   "id": "4d2509d4-87da-4bf5-90f4-0217286535fb",
   "metadata": {},
   "outputs": [
    {
     "name": "stdout",
     "output_type": "stream",
     "text": [
      "Removed 0 lines\n"
     ]
    }
   ],
   "source": [
    "# check if medallion and hash license are valid md5, remove the row otherwise\n",
    "\n",
    "MD5_PATTERN = r\"^[a-fA-F0-9]{32}$\"\n",
    "\n",
    "initial_count = rides_df.count()\n",
    "\n",
    "rides_df = rides_df.filter(\n",
    "    col(\"medallion\").rlike(MD5_PATTERN) &\n",
    "    col(\"hack_license\").rlike(MD5_PATTERN)\n",
    ")\n",
    "\n",
    "print(f\"Removed {initial_count - rides_df.count()} lines\")"
   ]
  },
  {
   "cell_type": "code",
   "execution_count": 9,
   "id": "1500f9be-3e5c-4093-b59e-f010f9253732",
   "metadata": {},
   "outputs": [
    {
     "name": "stdout",
     "output_type": "stream",
     "text": [
      "Removed 17848 lines\n"
     ]
    }
   ],
   "source": [
    "# remove rows with invalid pickup of dropoff times\n",
    "\n",
    "initial_count = rides_df.count()\n",
    "\n",
    "rides_df = rides_df.filter(\n",
    "    col(\"dropoff_datetime\") > col(\"pickup_datetime\")\n",
    ")\n",
    "\n",
    "print(f\"Removed {initial_count - rides_df.count()} lines\")"
   ]
  },
  {
   "cell_type": "code",
   "execution_count": 10,
   "id": "b9c922cf-4e2f-43a6-a988-09522dd5a473",
   "metadata": {},
   "outputs": [
    {
     "name": "stdout",
     "output_type": "stream",
     "text": [
      "Removed 31626 lines\n"
     ]
    }
   ],
   "source": [
    "# check for illogical numeric values\n",
    "\n",
    "initial_count = rides_df.count()\n",
    "\n",
    "rides_df = rides_df.filter(\n",
    "    (col(\"trip_time_in_secs\") > 0) &\n",
    "    (col(\"trip_distance\") > 0) &\n",
    "    (col(\"fare_amount\") >= 0) &\n",
    "    (col(\"surcharge\") >= 0) &\n",
    "    (col(\"mta_tax\") >= 0) &\n",
    "    (col(\"tip_amount\") >= 0) &\n",
    "    (col(\"tolls_amount\") >= 0)\n",
    ")\n",
    "\n",
    "print(f\"Removed {initial_count - rides_df.count()} lines\")"
   ]
  },
  {
   "cell_type": "code",
   "execution_count": 11,
   "id": "b0cecd16-3fd9-4bba-9a1d-5245e9285855",
   "metadata": {},
   "outputs": [
    {
     "name": "stdout",
     "output_type": "stream",
     "text": [
      "Removed 135788 lines\n"
     ]
    }
   ],
   "source": [
    "# remove lines with invalid fare calculation, eg where total_amount does not equal the sum of all fees\n",
    "\n",
    "initial_count = rides_df.count()\n",
    "\n",
    "rides_df = rides_df.filter(\n",
    "    col(\"total_amount\") ==\n",
    "    (\n",
    "        col(\"fare_amount\") + \n",
    "        col(\"surcharge\") + \n",
    "        col(\"mta_tax\") + \n",
    "        col(\"tip_amount\") + \n",
    "        col(\"tolls_amount\")\n",
    "    )\n",
    ")\n",
    "\n",
    "print(f\"Removed {initial_count - rides_df.count()} lines\")"
   ]
  },
  {
   "cell_type": "code",
   "execution_count": 12,
   "id": "315fe014-569e-4090-9c07-d50da11e59a9",
   "metadata": {},
   "outputs": [
    {
     "data": {
      "text/plain": [
       "7314708"
      ]
     },
     "execution_count": 12,
     "metadata": {},
     "output_type": "execute_result"
    }
   ],
   "source": [
    "rides_df.count()"
   ]
  },
  {
   "cell_type": "code",
   "execution_count": 13,
   "id": "9b209707",
   "metadata": {},
   "outputs": [],
   "source": [
    "rides_df_1000 = rides_df.limit(1000)\n",
    "\n",
    "rides_df_1000.write.csv(\"input/rides_df_1000\", header=True, mode=\"overwrite\")"
   ]
  },
  {
   "cell_type": "code",
   "execution_count": 12,
   "id": "fb22808d",
   "metadata": {},
   "outputs": [],
   "source": [
    "# Write the cleaned dataset to file\n",
    "rides_df.write.csv(\"input/cleaned_minified_data\", header=True, mode=\"overwrite\")"
   ]
  },
  {
   "cell_type": "markdown",
   "id": "68b88175",
   "metadata": {},
   "source": [
    "# Query 1"
   ]
  },
  {
   "cell_type": "code",
   "execution_count": 27,
   "id": "412743bb",
   "metadata": {},
   "outputs": [],
   "source": [
    "# For inspecting the data\n",
    "rides_df = (spark.read\n",
    "            .schema(schema)\n",
    "            .option(\"header\", \"true\")\n",
    "            .csv(\"input/rides_df_1000\") #path\n",
    "            )"
   ]
  },
  {
   "cell_type": "code",
   "execution_count": 15,
   "id": "dc54abcc",
   "metadata": {},
   "outputs": [
    {
     "name": "stdout",
     "output_type": "stream",
     "text": [
      "+--------------------------------+--------------------------------+-------------------+-------------------+-----------------+-------------+----------------+---------------+-----------------+----------------+------------+-----------+---------+-------+----------+------------+------------+\n",
      "|medallion                       |hack_license                    |pickup_datetime    |dropoff_datetime   |trip_time_in_secs|trip_distance|pickup_longitude|pickup_latitude|dropoff_longitude|dropoff_latitude|payment_type|fare_amount|surcharge|mta_tax|tip_amount|tolls_amount|total_amount|\n",
      "+--------------------------------+--------------------------------+-------------------+-------------------+-----------------+-------------+----------------+---------------+-----------------+----------------+------------+-----------+---------+-------+----------+------------+------------+\n",
      "|8CCC1CF4D81808ECCACC59F5E3A449CC|314B14F9C3CBFC03580340D82DF85C30|2013-01-12 05:26:51|2013-01-12 05:34:48|476              |2.1          |-73.961548      |40.799557      |-73.955208       |40.823692       |CSH         |9.0        |0.5      |0.5    |0.0       |0.0         |10.0        |\n",
      "|D5A684A17ECBAC303264427F4C9879C3|5277A9A08324E1009CA727B378D762FF|2013-01-12 05:31:38|2013-01-12 05:34:48|190              |0.9          |-73.990982      |40.76067       |-73.994911       |40.750134       |CRD         |5.0        |0.5      |0.5    |1.0       |0.0         |7.0         |\n",
      "|16022B0A9BEE27E36446982164EF414A|A944EC73C63AE28D80E218480E9979A5|2013-01-12 05:12:08|2013-01-12 05:34:51|1362             |8.9          |-74.000191      |40.728142      |-73.867584       |40.742058       |CSH         |28.0       |0.5      |0.5    |0.0       |0.0         |29.0        |\n",
      "|A557FACE6B00F79F55750047ADCED7EC|F578F0435B49B3D7B9A7AAFC663A82CD|2013-01-12 05:27:13|2013-01-12 05:34:54|461              |1.4          |-73.987457      |40.721142      |-73.980827       |40.737942       |CRD         |8.0        |0.5      |0.5    |1.8       |0.0         |10.8        |\n",
      "|6EAF54E36DE57B708CE39CCDC3B408B8|3A896040DEDCF7F3D21C25E90575F324|2013-01-12 05:28:58|2013-01-12 05:34:57|358              |1.4          |-73.971985      |40.782127      |-73.949982       |40.771935       |CRD         |7.0        |0.5      |0.5    |0.0       |0.0         |8.0         |\n",
      "+--------------------------------+--------------------------------+-------------------+-------------------+-----------------+-------------+----------------+---------------+-----------------+----------------+------------+-----------+---------+-------+----------+------------+------------+\n",
      "only showing top 5 rows\n",
      "\n"
     ]
    }
   ],
   "source": [
    "rides_df.show(5, False)"
   ]
  },
  {
   "cell_type": "code",
   "execution_count": 4,
   "id": "eba487dc",
   "metadata": {},
   "outputs": [],
   "source": [
    "rides_stream = (spark.readStream\n",
    "                .schema(schema)\n",
    "                .option(\"header\", \"true\")\n",
    "                .csv(\"input/cleaned_minified_data\") #path\n",
    "                )"
   ]
  },
  {
   "cell_type": "code",
   "execution_count": 6,
   "id": "128e6491",
   "metadata": {},
   "outputs": [],
   "source": [
    "# Center of the first grid cell\n",
    "start_lat = 41.474937\n",
    "start_long = -74.913585\n",
    "\n",
    "def distance_meters(lat, long):\n",
    "    # Every degree is roughly 111.32 km or 111,320 meters\n",
    "    m_per_degree = 111320\n",
    "\n",
    "    # TODO this assumes the earth is flat.\n",
    "    lat_distance = lat - start_lat * m_per_degree\n",
    "    long_distance = long - start_long * m_per_degree\n",
    "\n",
    "    return lat_distance, long_distance"
   ]
  },
  {
   "cell_type": "code",
   "execution_count": null,
   "id": "563a14b5",
   "metadata": {},
   "outputs": [],
   "source": [
    "import math\n",
    "\n",
    "# UDF for converting latitude and longitude to a grid cell ID\n",
    "# Courtesy of Claude 3.7\n",
    "def lat_long_to_grid(lat, long):\n",
    "    # Barryville reference point (center of cell 1.1)\n",
    "    reference_lat = 41.474937\n",
    "    reference_long = -74.913585\n",
    "    \n",
    "    # Calculate distance from reference point\n",
    "    # For latitude: 1 degree ~ 111 km (varies slightly with latitude)\n",
    "    # Moving south means decreasing latitude\n",
    "    lat_dist_km = (reference_lat - lat) * 111.0  # Distance south in km\n",
    "    \n",
    "    # For longitude: 1 degree ~ 111 * cos(latitude) km\n",
    "    # Moving east means increasing longitude\n",
    "    long_dist_km = (long - reference_long) * 111.0 * math.cos(math.radians(reference_lat))  # Distance east in km\n",
    "    \n",
    "    # Convert to meters\n",
    "    lat_dist_m = lat_dist_km * 1000\n",
    "    long_dist_m = long_dist_km * 1000\n",
    "    \n",
    "    # Check if outside the grid (more than 150km south or east from reference)\n",
    "    if lat_dist_m < 0 or lat_dist_m > 150000 or long_dist_m < 0 or long_dist_m > 150000:\n",
    "        return None\n",
    "    \n",
    "    # Calculate cell IDs\n",
    "    # Cell 1.1 starts at reference point (center of the cell)\n",
    "    # Each cell is 500m x 500m\n",
    "    # To get the cell number, divide by 500 and add 1\n",
    "    \n",
    "    # For the first component (east direction)\n",
    "    cell_east = int(long_dist_m / 500) + 1\n",
    "    \n",
    "    # For the second component (south direction)\n",
    "    cell_south = int(lat_dist_m / 500) + 1\n",
    "    \n",
    "    # Cell ID as \"east.south\"\n",
    "    return f\"{cell_east}.{cell_south}\"\n",
    "\n",
    "# Register the UDF with Spark\n",
    "lat_long_to_grid_udf = udf(lat_long_to_grid, StringType())"
   ]
  },
  {
   "cell_type": "code",
   "execution_count": 31,
   "id": "6a8f9b61",
   "metadata": {},
   "outputs": [
    {
     "name": "stdout",
     "output_type": "stream",
     "text": [
      "+--------------------------------+--------------------------------+-------------------+-------------------+-----------------+-------------+----------------+---------------+-----------------+----------------+------------+-----------+---------+-------+----------+------------+------------+\n",
      "|medallion                       |hack_license                    |pickup_datetime    |dropoff_datetime   |trip_time_in_secs|trip_distance|pickup_longitude|pickup_latitude|dropoff_longitude|dropoff_latitude|payment_type|fare_amount|surcharge|mta_tax|tip_amount|tolls_amount|total_amount|\n",
      "+--------------------------------+--------------------------------+-------------------+-------------------+-----------------+-------------+----------------+---------------+-----------------+----------------+------------+-----------+---------+-------+----------+------------+------------+\n",
      "|5EE2C4D3BF57BDB455E74B03B89E43A7|E96EF8F6E6122591F9465376043B946D|2013-01-01 00:00:09|2013-01-01 00:00:36|26               |0.1          |-73.99221       |40.725124      |-73.991646       |40.726658       |CSH         |2.5        |0.5      |0.5    |0.0       |0.0         |3.5         |\n",
      "|CA6CD9BAED6A85E430F7BFC0BC84ABD0|77FFDF38272A6006517D53EDA14333E2|2013-01-01 00:00:20|2013-01-01 00:01:22|61               |2.2          |-73.9701        |40.768005      |-73.969772       |40.767834       |CSH         |3.0        |0.5      |0.5    |0.0       |0.0         |4.0         |\n",
      "|15162141EA7436635C696F5BC023D2D6|CDCB7729DE07243726FF7BB0BD5D06BF|2013-01-01 00:00:14|2013-01-01 00:01:37|83               |0.2          |-73.975441      |40.749657      |-73.977333       |40.751991       |CSH         |3.0        |0.5      |0.5    |0.0       |0.0         |4.0         |\n",
      "|025B98A22ED771118FC0EB44A0D3BD9D|7D89374F8E98F30A19F2381EC71A16BA|2013-01-01 00:00:40|2013-01-01 00:01:40|60               |0.3          |-74.005165      |40.720531      |-74.003929       |40.725655       |CSH         |3.0        |0.5      |0.5    |0.0       |0.0         |4.0         |\n",
      "|07290D3599E7A0D62097A346EFCC1FB5|E7750A37CAB07D0DFF0AF7E3573AC141|2013-01-01 00:00:00|2013-01-01 00:02:00|120              |0.44         |-73.956528      |40.716976      |-73.96244        |40.715008       |CSH         |3.5        |0.5      |0.5    |0.0       |0.0         |4.5         |\n",
      "+--------------------------------+--------------------------------+-------------------+-------------------+-----------------+-------------+----------------+---------------+-----------------+----------------+------------+-----------+---------+-------+----------+------------+------------+\n",
      "only showing top 5 rows\n",
      "\n"
     ]
    }
   ],
   "source": [
    "rides_df.show(5, False)"
   ]
  },
  {
   "cell_type": "code",
   "execution_count": null,
   "id": "08cd5815",
   "metadata": {},
   "outputs": [
    {
     "name": "stdout",
     "output_type": "stream",
     "text": [
      "Number of results: 0\n",
      "+-----------+----------+--------+---------------+\n",
      "|time_window|start_cell|end_cell|number_of_rides|\n",
      "+-----------+----------+--------+---------------+\n",
      "+-----------+----------+--------+---------------+\n",
      "\n"
     ]
    }
   ],
   "source": [
    "most_frequent_routes_query = (rides_df\n",
    "    .withColumn(\"start_cell\", lat_long_to_grid_udf(col(\"pickup_latitude\"), col(\"pickup_longitude\")))\n",
    "    .withColumn(\"end_cell\", lat_long_to_grid_udf(col(\"dropoff_latitude\"), col(\"dropoff_longitude\")))\n",
    "    .filter(col(\"start_cell\").isNotNull() & col(\"end_cell\").isNotNull()) # The udf returns None for invalid cells\n",
    "    .groupBy(\n",
    "        window(col(\"pickup_datetime\"), \"30 minutes\"),\n",
    "        col(\"start_cell\"),\n",
    "        col(\"end_cell\")\n",
    "    )\n",
    "    .agg(count(\"*\").alias(\"Number_of_Rides\"))\n",
    "    .orderBy(col(\"Number_of_Rides\").desc())\n",
    ")"
   ]
  },
  {
   "cell_type": "code",
   "execution_count": 49,
   "id": "53309ccf",
   "metadata": {},
   "outputs": [
    {
     "name": "stdout",
     "output_type": "stream",
     "text": [
      "1.1\n",
      "2.2\n",
      "169.217\n"
     ]
    }
   ],
   "source": [
    "# Test the reference point (should be in cell 1.1)\n",
    "print(lat_long_to_grid(41.474937, -74.913585))  # Should return \"1.1\"\n",
    "\n",
    "# Test a point 1km east and 1km south (should be in cell 3.3)\n",
    "print(lat_long_to_grid(41.465937, -74.903585))  # ~1km south and ~1km east\n",
    "\n",
    "# Test a point outside the grid\n",
    "print(lat_long_to_grid(40.5, -73.9))  # NYC coordinates - should be None or far south/east"
   ]
  },
  {
   "cell_type": "code",
   "execution_count": 40,
   "id": "734038e4",
   "metadata": {},
   "outputs": [
    {
     "name": "stdout",
     "output_type": "stream",
     "text": [
      "Rows with valid start and end cells: 0\n",
      "Percentage of valid cells: 0.00%\n",
      "+---------------+----------------+----------+----------------+-----------------+--------+\n",
      "|pickup_latitude|pickup_longitude|start_cell|dropoff_latitude|dropoff_longitude|end_cell|\n",
      "+---------------+----------------+----------+----------------+-----------------+--------+\n",
      "|      40.725124|       -73.99221|      NULL|       40.726658|       -73.991646|    NULL|\n",
      "|      40.768005|        -73.9701|      NULL|       40.767834|       -73.969772|    NULL|\n",
      "|      40.749657|      -73.975441|      NULL|       40.751991|       -73.977333|    NULL|\n",
      "|      40.720531|      -74.005165|      NULL|       40.725655|       -74.003929|    NULL|\n",
      "|      40.716976|      -73.956528|      NULL|       40.715008|        -73.96244|    NULL|\n",
      "|      40.790169|       -73.95208|      NULL|       40.794323|       -73.948921|    NULL|\n",
      "|      40.708313|      -74.003197|      NULL|       40.706551|       -74.005608|    NULL|\n",
      "|      40.757912|      -73.977898|      NULL|       40.757362|        -73.97802|    NULL|\n",
      "|      40.743343|      -73.999878|      NULL|        40.74828|       -74.003708|    NULL|\n",
      "|      40.706432|       -74.00975|      NULL|       40.794716|       -73.971985|    NULL|\n",
      "+---------------+----------------+----------+----------------+-----------------+--------+\n",
      "only showing top 10 rows\n",
      "\n"
     ]
    }
   ],
   "source": [
    "# Test the UDF separately\n",
    "test_df = rides_df.withColumn(\"start_cell\", lat_long_to_grid_udf(col(\"pickup_latitude\"), col(\"pickup_longitude\")))\n",
    "test_df = test_df.withColumn(\"end_cell\", lat_long_to_grid_udf(col(\"dropoff_latitude\"), col(\"dropoff_longitude\")))\n",
    "\n",
    "# Check how many rows have valid cells\n",
    "valid_cells = test_df.filter(col(\"start_cell\").isNotNull() & col(\"end_cell\").isNotNull())\n",
    "print(f\"Rows with valid start and end cells: {valid_cells.count()}\")\n",
    "print(f\"Percentage of valid cells: {valid_cells.count() / test_df.count() * 100:.2f}%\")\n",
    "\n",
    "# Show some sample rows with lat/long and the resulting cells\n",
    "test_df.select(\"pickup_latitude\", \"pickup_longitude\", \"start_cell\", \n",
    "               \"dropoff_latitude\", \"dropoff_longitude\", \"end_cell\").show(10)"
   ]
  },
  {
   "cell_type": "code",
   "execution_count": 36,
   "id": "ec773e2f",
   "metadata": {},
   "outputs": [
    {
     "name": "stdout",
     "output_type": "stream",
     "text": [
      "Number of results: 0\n",
      "+-----------+----------+--------+---------------+\n",
      "|time_window|start_cell|end_cell|number_of_rides|\n",
      "+-----------+----------+--------+---------------+\n",
      "+-----------+----------+--------+---------------+\n",
      "\n"
     ]
    }
   ],
   "source": [
    "# For static data analysis (batch processing)\n",
    "most_frequent_routes_query = (rides_df\n",
    "    .withColumn(\"start_cell\", lat_long_to_grid_udf(col(\"pickup_latitude\"), col(\"pickup_longitude\")))\n",
    "    .withColumn(\"end_cell\", lat_long_to_grid_udf(col(\"dropoff_latitude\"), col(\"dropoff_longitude\")))\n",
    "    .filter(col(\"start_cell\").isNotNull() & col(\"end_cell\").isNotNull()) # The udf returns None for invalid cells\n",
    "    # Use date_trunc instead of window for batch processing\n",
    "    .withColumn(\"time_window\", date_trunc(\"hour\", col(\"pickup_datetime\")))\n",
    "    .groupBy(\n",
    "        col(\"time_window\"),\n",
    "        col(\"start_cell\"),\n",
    "        col(\"end_cell\")\n",
    "    )\n",
    "    .agg(count(\"*\").alias(\"number_of_rides\"))\n",
    "    .orderBy(col(\"number_of_rides\").desc())\n",
    ")\n",
    "\n",
    "# Check if the query returns results\n",
    "print(f\"Number of results: {most_frequent_routes_query.count()}\")\n",
    "most_frequent_routes_query.show(10)"
   ]
  },
  {
   "cell_type": "code",
   "execution_count": 34,
   "id": "dd691ca2",
   "metadata": {},
   "outputs": [
    {
     "name": "stdout",
     "output_type": "stream",
     "text": [
      "+------+----------+--------+---------------+\n",
      "|window|start_cell|end_cell|Number_of_Rides|\n",
      "+------+----------+--------+---------------+\n",
      "+------+----------+--------+---------------+\n",
      "\n"
     ]
    }
   ],
   "source": [
    "most_frequent_routes_query.show(5, False)"
   ]
  },
  {
   "cell_type": "code",
   "execution_count": 13,
   "id": "9f0852c8",
   "metadata": {},
   "outputs": [],
   "source": [
    "# Function to create table if not exists\n",
    "def create_table_if_exists(output_path, table_name):\n",
    "    data_exists = False\n",
    "    for _i in range(5):  # Retry for 60 seconds\n",
    "        try:\n",
    "            time.sleep(1)\n",
    "            files = os.listdir(output_path)\n",
    "            for _f in files:\n",
    "                if \".parquet\" in _f:\n",
    "                    if len(os.listdir(f\"{output_path}/_delta_log\")) > 0:\n",
    "                        print(\"data exists\")\n",
    "                        data_exists = True\n",
    "                        break\n",
    "            if data_exists:\n",
    "                spark.sql(f\"CREATE TABLE IF NOT EXISTS {table_name} USING DELTA LOCATION '{output_path}'\")\n",
    "                break\n",
    "        except Exception as e:\n",
    "            print(e)  # Uncomment if you want to see exceptions\n",
    "            pass"
   ]
  },
  {
   "cell_type": "code",
   "execution_count": 25,
   "id": "acbb7e38",
   "metadata": {},
   "outputs": [
    {
     "name": "stdout",
     "output_type": "stream",
     "text": [
      "data exists\n"
     ]
    },
    {
     "data": {
      "text/plain": [
       "False"
      ]
     },
     "execution_count": 25,
     "metadata": {},
     "output_type": "execute_result"
    }
   ],
   "source": [
    "checkpoint_path = \"output/_checkpoint\"\n",
    "output_path = \"output/most_frequent_routes\"\n",
    "os.makedirs(output_path, exist_ok=True)\n",
    "\n",
    "table_name = \"most_frequent_routes\"\n",
    "create_table_if_exists(output_path, table_name)\n",
    "\n",
    "(most_frequent_routes_query.\n",
    "    writeStream\n",
    "    .format(\"delta\")\n",
    "    .outputMode(\"complete\")\n",
    "    .option(\"checkpointLocation\", checkpoint_path)\n",
    "    .queryName(\"most_frequent_routes\")\n",
    "    .trigger(processingTime=\"5 seconds\")\n",
    "    .start(output_path)\n",
    "    .awaitTermination(timeout = 120)\n",
    ")"
   ]
  },
  {
   "cell_type": "code",
   "execution_count": 24,
   "id": "70670eed",
   "metadata": {},
   "outputs": [
    {
     "name": "stdout",
     "output_type": "stream",
     "text": [
      "Stopping existing query: most_frequent_routes\n"
     ]
    }
   ],
   "source": [
    "# Check for active streams and stop them if they exist\n",
    "for query in spark.streams.active:\n",
    "    if query.name == \"most_frequent_routes\":\n",
    "        print(f\"Stopping existing query: {query.name}\")\n",
    "        query.stop()"
   ]
  },
  {
   "cell_type": "code",
   "execution_count": 26,
   "id": "b09acd23",
   "metadata": {},
   "outputs": [
    {
     "data": {
      "text/html": [
       "<div>\n",
       "<style scoped>\n",
       "    .dataframe tbody tr th:only-of-type {\n",
       "        vertical-align: middle;\n",
       "    }\n",
       "\n",
       "    .dataframe tbody tr th {\n",
       "        vertical-align: top;\n",
       "    }\n",
       "\n",
       "    .dataframe thead th {\n",
       "        text-align: right;\n",
       "    }\n",
       "</style>\n",
       "<table border=\"1\" class=\"dataframe\">\n",
       "  <thead>\n",
       "    <tr style=\"text-align: right;\">\n",
       "      <th></th>\n",
       "      <th>window</th>\n",
       "      <th>start_cell</th>\n",
       "      <th>end_cell</th>\n",
       "      <th>Number_of_Rides</th>\n",
       "    </tr>\n",
       "  </thead>\n",
       "  <tbody>\n",
       "  </tbody>\n",
       "</table>\n",
       "</div>"
      ],
      "text/plain": [
       "Empty DataFrame\n",
       "Columns: [window, start_cell, end_cell, Number_of_Rides]\n",
       "Index: []"
      ]
     },
     "execution_count": 26,
     "metadata": {},
     "output_type": "execute_result"
    }
   ],
   "source": [
    "df = spark.read.format(\"delta\").load(output_path)\n",
    "df.toPandas().sort_values(by=['window'], ascending=True).head(10)"
   ]
  }
 ],
 "metadata": {
  "kernelspec": {
   "display_name": "Python 3 (ipykernel)",
   "language": "python",
   "name": "python3"
  },
  "language_info": {
   "codemirror_mode": {
    "name": "ipython",
    "version": 3
   },
   "file_extension": ".py",
   "mimetype": "text/x-python",
   "name": "python",
   "nbconvert_exporter": "python",
   "pygments_lexer": "ipython3",
   "version": "3.11.10"
  }
 },
 "nbformat": 4,
 "nbformat_minor": 5
}
