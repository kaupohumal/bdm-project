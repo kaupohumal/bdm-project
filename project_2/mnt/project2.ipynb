{
 "cells": [
  {
   "cell_type": "code",
   "execution_count": 1,
   "id": "648f3b47-dcc8-42d3-90e9-b7b31f64d995",
   "metadata": {},
   "outputs": [],
   "source": [
    "from pyspark.sql import SparkSession\n",
    "from pyspark.sql.functions import *\n",
    "from pyspark.sql.types import StructType, StructField, StringType, IntegerType, DoubleType, TimestampType\n"
   ]
  },
  {
   "cell_type": "code",
   "execution_count": 2,
   "id": "fe2f2b4c-08bd-4de6-b8ea-e1226b31049a",
   "metadata": {},
   "outputs": [],
   "source": [
    "spark = (SparkSession.builder\n",
    "                    .appName('project2')\n",
    "                    .getOrCreate()\n",
    "        )"
   ]
  },
  {
   "cell_type": "code",
   "execution_count": 3,
   "id": "e8a4b9dd-a852-4d61-9eef-f62067969389",
   "metadata": {},
   "outputs": [],
   "source": [
    "schema = StructType([\n",
    "    StructField(\"medallion\", StringType(), True),\n",
    "    StructField(\"hack_license\", StringType(), True),\n",
    "    StructField(\"pickup_datetime\", TimestampType(), True),\n",
    "    StructField(\"dropoff_datetime\", TimestampType(), True),\n",
    "    StructField(\"trip_time_in_secs\", IntegerType(), True),\n",
    "    StructField(\"trip_distance\", DoubleType(), True),\n",
    "    StructField(\"pickup_longitude\", DoubleType(), True),\n",
    "    StructField(\"pickup_latitude\", DoubleType(), True),\n",
    "    StructField(\"dropoff_longitude\", DoubleType(), True),\n",
    "    StructField(\"dropoff_latitude\", DoubleType(), True),\n",
    "    StructField(\"payment_type\", StringType(), True),\n",
    "    StructField(\"fare_amount\", DoubleType(), True),\n",
    "    StructField(\"surcharge\", DoubleType(), True),\n",
    "    StructField(\"mta_tax\", DoubleType(), True),\n",
    "    StructField(\"tip_amount\", DoubleType(), True),\n",
    "    StructField(\"tolls_amount\", DoubleType(), True),\n",
    "    StructField(\"total_amount\", DoubleType(), True)\n",
    "])"
   ]
  },
  {
   "cell_type": "code",
   "execution_count": 4,
   "id": "461072d8-e2fb-4ab6-84ce-4dbf0bce635d",
   "metadata": {},
   "outputs": [],
   "source": [
    "#original, unmodified dataset\n",
    "rides_df = (spark.read\n",
    "            .schema(schema)\n",
    "            .csv(\"input/minified_sorted_data.csv\") #path\n",
    "            )"
   ]
  },
  {
   "cell_type": "code",
   "execution_count": 5,
   "id": "1009cab5-4810-45ef-a210-23898c631c42",
   "metadata": {},
   "outputs": [
    {
     "name": "stdout",
     "output_type": "stream",
     "text": [
      "root\n",
      " |-- medallion: string (nullable = true)\n",
      " |-- hack_license: string (nullable = true)\n",
      " |-- pickup_datetime: timestamp (nullable = true)\n",
      " |-- dropoff_datetime: timestamp (nullable = true)\n",
      " |-- trip_time_in_secs: integer (nullable = true)\n",
      " |-- trip_distance: double (nullable = true)\n",
      " |-- pickup_longitude: double (nullable = true)\n",
      " |-- pickup_latitude: double (nullable = true)\n",
      " |-- dropoff_longitude: double (nullable = true)\n",
      " |-- dropoff_latitude: double (nullable = true)\n",
      " |-- payment_type: string (nullable = true)\n",
      " |-- fare_amount: double (nullable = true)\n",
      " |-- surcharge: double (nullable = true)\n",
      " |-- mta_tax: double (nullable = true)\n",
      " |-- tip_amount: double (nullable = true)\n",
      " |-- tolls_amount: double (nullable = true)\n",
      " |-- total_amount: double (nullable = true)\n",
      "\n"
     ]
    }
   ],
   "source": [
    "rides_df.printSchema()"
   ]
  },
  {
   "cell_type": "code",
   "execution_count": 6,
   "id": "c8fda01a-bf51-4eff-936d-6fd75bdf59d5",
   "metadata": {},
   "outputs": [
    {
     "name": "stdout",
     "output_type": "stream",
     "text": [
      "Removed 30 lines\n"
     ]
    }
   ],
   "source": [
    "# remove rows with null values\n",
    "initial_count = rides_df.count()\n",
    "rides_df = rides_df.dropna()\n",
    "\n",
    "print(f\"Removed {initial_count - rides_df.count()} lines\")"
   ]
  },
  {
   "cell_type": "code",
   "execution_count": 7,
   "id": "4d2509d4-87da-4bf5-90f4-0217286535fb",
   "metadata": {},
   "outputs": [
    {
     "name": "stdout",
     "output_type": "stream",
     "text": [
      "Removed 0 lines\n"
     ]
    }
   ],
   "source": [
    "# check if medallion and hash license are valid md5, remove the row otherwise\n",
    "\n",
    "MD5_PATTERN = r\"^[a-fA-F0-9]{32}$\"\n",
    "\n",
    "initial_count = rides_df.count()\n",
    "\n",
    "rides_df = rides_df.filter(\n",
    "    col(\"medallion\").rlike(MD5_PATTERN) &\n",
    "    col(\"hack_license\").rlike(MD5_PATTERN)\n",
    ")\n",
    "\n",
    "print(f\"Removed {initial_count - rides_df.count()} lines\")"
   ]
  },
  {
   "cell_type": "code",
   "execution_count": 8,
   "id": "1500f9be-3e5c-4093-b59e-f010f9253732",
   "metadata": {},
   "outputs": [
    {
     "name": "stdout",
     "output_type": "stream",
     "text": [
      "Removed 17848 lines\n"
     ]
    }
   ],
   "source": [
    "# remove rows with invalid pickup of dropoff times\n",
    "\n",
    "initial_count = rides_df.count()\n",
    "\n",
    "rides_df = rides_df.filter(\n",
    "    col(\"dropoff_datetime\") > col(\"pickup_datetime\")\n",
    ")\n",
    "\n",
    "print(f\"Removed {initial_count - rides_df.count()} lines\")"
   ]
  },
  {
   "cell_type": "code",
   "execution_count": 9,
   "id": "b9c922cf-4e2f-43a6-a988-09522dd5a473",
   "metadata": {},
   "outputs": [
    {
     "name": "stdout",
     "output_type": "stream",
     "text": [
      "Removed 31626 lines\n"
     ]
    }
   ],
   "source": [
    "# check for illogical numeric values\n",
    "\n",
    "initial_count = rides_df.count()\n",
    "\n",
    "rides_df = rides_df.filter(\n",
    "    (col(\"trip_time_in_secs\") > 0) &\n",
    "    (col(\"trip_distance\") > 0) &\n",
    "    (col(\"fare_amount\") >= 0) &\n",
    "    (col(\"surcharge\") >= 0) &\n",
    "    (col(\"mta_tax\") >= 0) &\n",
    "    (col(\"tip_amount\") >= 0) &\n",
    "    (col(\"tolls_amount\") >= 0)\n",
    ")\n",
    "\n",
    "print(f\"Removed {initial_count - rides_df.count()} lines\")"
   ]
  },
  {
   "cell_type": "code",
   "execution_count": 10,
   "id": "b0cecd16-3fd9-4bba-9a1d-5245e9285855",
   "metadata": {},
   "outputs": [
    {
     "name": "stdout",
     "output_type": "stream",
     "text": [
      "Removed 135788 lines\n"
     ]
    }
   ],
   "source": [
    "# remove lines with invalid fare calculation, eg where total_amount does not equal the sum of all fees\n",
    "\n",
    "initial_count = rides_df.count()\n",
    "\n",
    "rides_df = rides_df.filter(\n",
    "    col(\"total_amount\") ==\n",
    "    (\n",
    "        col(\"fare_amount\") + \n",
    "        col(\"surcharge\") + \n",
    "        col(\"mta_tax\") + \n",
    "        col(\"tip_amount\") + \n",
    "        col(\"tolls_amount\")\n",
    "    )\n",
    ")\n",
    "\n",
    "print(f\"Removed {initial_count - rides_df.count()} lines\")"
   ]
  },
  {
   "cell_type": "code",
   "execution_count": 11,
   "id": "315fe014-569e-4090-9c07-d50da11e59a9",
   "metadata": {},
   "outputs": [
    {
     "data": {
      "text/plain": [
       "7314708"
      ]
     },
     "execution_count": 11,
     "metadata": {},
     "output_type": "execute_result"
    }
   ],
   "source": [
    "rides_df.count()"
   ]
  }
 ],
 "metadata": {
  "kernelspec": {
   "display_name": "Python 3 (ipykernel)",
   "language": "python",
   "name": "python3"
  },
  "language_info": {
   "codemirror_mode": {
    "name": "ipython",
    "version": 3
   },
   "file_extension": ".py",
   "mimetype": "text/x-python",
   "name": "python",
   "nbconvert_exporter": "python",
   "pygments_lexer": "ipython3",
   "version": "3.11.10"
  }
 },
 "nbformat": 4,
 "nbformat_minor": 5
}
