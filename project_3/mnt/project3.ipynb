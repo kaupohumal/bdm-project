{
 "cells": [
  {
   "cell_type": "markdown",
   "id": "69ad7d27-d8e8-4a70-90e4-157f239ea43a",
   "metadata": {},
   "source": [
    "# Creating GraphFrame"
   ]
  },
  {
   "cell_type": "code",
   "execution_count": 1,
   "id": "4b5aa17f-4537-4860-9335-302d9cf6eccd",
   "metadata": {},
   "outputs": [],
   "source": [
    "import pyspark\n",
    "from delta import configure_spark_with_delta_pip\n",
    "\n",
    "import pyspark.sql.functions as F\n",
    "from pyspark.sql.functions import col, array, explode, sum as Fsum\n",
    "from pyspark.sql.functions import array_intersect, size\n",
    "from pyspark.sql.window import Window\n",
    "from pyspark.sql.functions import rank, col, min, least, coalesce, collect_list, countDistinct\n",
    "\n",
    "# Prepare the Spark builder\n",
    "builder = pyspark.sql.SparkSession.builder.appName(\"Graphs_Practice\") \\\n",
    "    .config(\"spark.sql.extensions\", \"io.delta.sql.DeltaSparkSessionExtension\") \\\n",
    "    .config(\"spark.sql.catalog.spark_catalog\", \"org.apache.spark.sql.delta.catalog.DeltaCatalog\")\n",
    "\n",
    "spark = configure_spark_with_delta_pip(builder,extra_packages=[\"graphframes:graphframes:0.8.4-spark3.5-s_2.12\"]).getOrCreate()\n",
    "spark.conf.set(\"spark.sql.shuffle.partitions\", spark._sc.defaultParallelism)\n",
    "\n",
    "spark.conf.set(\"spark.sql.repl.eagerEval.enabled\",True) # OK for exploration, not great for performance\n",
    "spark.conf.set(\"spark.sql.repl.eagerEval.truncate\", 500)\n",
    "import graphframes as gf\n",
    "\n"
   ]
  },
  {
   "cell_type": "code",
   "execution_count": 2,
   "id": "dbddad48-9c18-4f1b-ba41-26552fbb83af",
   "metadata": {},
   "outputs": [
    {
     "data": {
      "text/html": [
       "<table border='1'>\n",
       "<tr><th>FL_DATE</th><th>OP_CARRIER</th><th>OP_CARRIER_FL_NUM</th><th>ORIGIN</th><th>DEST</th><th>CRS_DEP_TIME</th><th>DEP_TIME</th><th>DEP_DELAY</th><th>TAXI_OUT</th><th>WHEELS_OFF</th><th>WHEELS_ON</th><th>TAXI_IN</th><th>CRS_ARR_TIME</th><th>ARR_TIME</th><th>ARR_DELAY</th><th>CANCELLED</th><th>CANCELLATION_CODE</th><th>DIVERTED</th><th>CRS_ELAPSED_TIME</th><th>ACTUAL_ELAPSED_TIME</th><th>AIR_TIME</th><th>DISTANCE</th><th>CARRIER_DELAY</th><th>WEATHER_DELAY</th><th>NAS_DELAY</th><th>SECURITY_DELAY</th><th>LATE_AIRCRAFT_DELAY</th><th>Unnamed: 27</th></tr>\n",
       "<tr><td>2009-01-01</td><td>XE</td><td>1204</td><td>DCA</td><td>EWR</td><td>1100</td><td>1058.0</td><td>-2.0</td><td>18.0</td><td>1116.0</td><td>1158.0</td><td>8.0</td><td>1202</td><td>1206.0</td><td>4.0</td><td>0.0</td><td>NULL</td><td>0.0</td><td>62.0</td><td>68.0</td><td>42.0</td><td>199.0</td><td>NULL</td><td>NULL</td><td>NULL</td><td>NULL</td><td>NULL</td><td>NULL</td></tr>\n",
       "<tr><td>2009-01-01</td><td>XE</td><td>1206</td><td>EWR</td><td>IAD</td><td>1510</td><td>1509.0</td><td>-1.0</td><td>28.0</td><td>1537.0</td><td>1620.0</td><td>4.0</td><td>1632</td><td>1624.0</td><td>-8.0</td><td>0.0</td><td>NULL</td><td>0.0</td><td>82.0</td><td>75.0</td><td>43.0</td><td>213.0</td><td>NULL</td><td>NULL</td><td>NULL</td><td>NULL</td><td>NULL</td><td>NULL</td></tr>\n",
       "<tr><td>2009-01-01</td><td>XE</td><td>1207</td><td>EWR</td><td>DCA</td><td>1100</td><td>1059.0</td><td>-1.0</td><td>20.0</td><td>1119.0</td><td>1155.0</td><td>6.0</td><td>1210</td><td>1201.0</td><td>-9.0</td><td>0.0</td><td>NULL</td><td>0.0</td><td>70.0</td><td>62.0</td><td>36.0</td><td>199.0</td><td>NULL</td><td>NULL</td><td>NULL</td><td>NULL</td><td>NULL</td><td>NULL</td></tr>\n",
       "<tr><td>2009-01-01</td><td>XE</td><td>1208</td><td>DCA</td><td>EWR</td><td>1240</td><td>1249.0</td><td>9.0</td><td>10.0</td><td>1259.0</td><td>1336.0</td><td>9.0</td><td>1357</td><td>1345.0</td><td>-12.0</td><td>0.0</td><td>NULL</td><td>0.0</td><td>77.0</td><td>56.0</td><td>37.0</td><td>199.0</td><td>NULL</td><td>NULL</td><td>NULL</td><td>NULL</td><td>NULL</td><td>NULL</td></tr>\n",
       "<tr><td>2009-01-01</td><td>XE</td><td>1209</td><td>IAD</td><td>EWR</td><td>1715</td><td>1705.0</td><td>-10.0</td><td>24.0</td><td>1729.0</td><td>1809.0</td><td>13.0</td><td>1900</td><td>1822.0</td><td>-38.0</td><td>0.0</td><td>NULL</td><td>0.0</td><td>105.0</td><td>77.0</td><td>40.0</td><td>213.0</td><td>NULL</td><td>NULL</td><td>NULL</td><td>NULL</td><td>NULL</td><td>NULL</td></tr>\n",
       "<tr><td>2009-01-01</td><td>XE</td><td>1212</td><td>ATL</td><td>EWR</td><td>1915</td><td>1913.0</td><td>-2.0</td><td>19.0</td><td>1932.0</td><td>2108.0</td><td>15.0</td><td>2142</td><td>2123.0</td><td>-19.0</td><td>0.0</td><td>NULL</td><td>0.0</td><td>147.0</td><td>130.0</td><td>96.0</td><td>745.0</td><td>NULL</td><td>NULL</td><td>NULL</td><td>NULL</td><td>NULL</td><td>NULL</td></tr>\n",
       "<tr><td>2009-01-01</td><td>XE</td><td>1212</td><td>CLE</td><td>ATL</td><td>1645</td><td>1637.0</td><td>-8.0</td><td>12.0</td><td>1649.0</td><td>1820.0</td><td>5.0</td><td>1842</td><td>1825.0</td><td>-17.0</td><td>0.0</td><td>NULL</td><td>0.0</td><td>117.0</td><td>108.0</td><td>91.0</td><td>554.0</td><td>NULL</td><td>NULL</td><td>NULL</td><td>NULL</td><td>NULL</td><td>NULL</td></tr>\n",
       "<tr><td>2009-01-01</td><td>XE</td><td>1214</td><td>DCA</td><td>EWR</td><td>1915</td><td>1908.0</td><td>-7.0</td><td>9.0</td><td>1917.0</td><td>1953.0</td><td>34.0</td><td>2035</td><td>2027.0</td><td>-8.0</td><td>0.0</td><td>NULL</td><td>0.0</td><td>80.0</td><td>79.0</td><td>36.0</td><td>199.0</td><td>NULL</td><td>NULL</td><td>NULL</td><td>NULL</td><td>NULL</td><td>NULL</td></tr>\n",
       "<tr><td>2009-01-01</td><td>XE</td><td>1215</td><td>EWR</td><td>DCA</td><td>1715</td><td>1710.0</td><td>-5.0</td><td>28.0</td><td>1738.0</td><td>1819.0</td><td>4.0</td><td>1838</td><td>1823.0</td><td>-15.0</td><td>0.0</td><td>NULL</td><td>0.0</td><td>83.0</td><td>73.0</td><td>41.0</td><td>199.0</td><td>NULL</td><td>NULL</td><td>NULL</td><td>NULL</td><td>NULL</td><td>NULL</td></tr>\n",
       "<tr><td>2009-01-01</td><td>XE</td><td>1217</td><td>EWR</td><td>DCA</td><td>1300</td><td>1255.0</td><td>-5.0</td><td>15.0</td><td>1310.0</td><td>1349.0</td><td>7.0</td><td>1408</td><td>1356.0</td><td>-12.0</td><td>0.0</td><td>NULL</td><td>0.0</td><td>68.0</td><td>61.0</td><td>39.0</td><td>199.0</td><td>NULL</td><td>NULL</td><td>NULL</td><td>NULL</td><td>NULL</td><td>NULL</td></tr>\n",
       "</table>\n"
      ],
      "text/plain": [
       "+----------+----------+-----------------+------+----+------------+--------+---------+--------+----------+---------+-------+------------+--------+---------+---------+-----------------+--------+----------------+-------------------+--------+--------+-------------+-------------+---------+--------------+-------------------+-----------+\n",
       "|   FL_DATE|OP_CARRIER|OP_CARRIER_FL_NUM|ORIGIN|DEST|CRS_DEP_TIME|DEP_TIME|DEP_DELAY|TAXI_OUT|WHEELS_OFF|WHEELS_ON|TAXI_IN|CRS_ARR_TIME|ARR_TIME|ARR_DELAY|CANCELLED|CANCELLATION_CODE|DIVERTED|CRS_ELAPSED_TIME|ACTUAL_ELAPSED_TIME|AIR_TIME|DISTANCE|CARRIER_DELAY|WEATHER_DELAY|NAS_DELAY|SECURITY_DELAY|LATE_AIRCRAFT_DELAY|Unnamed: 27|\n",
       "+----------+----------+-----------------+------+----+------------+--------+---------+--------+----------+---------+-------+------------+--------+---------+---------+-----------------+--------+----------------+-------------------+--------+--------+-------------+-------------+---------+--------------+-------------------+-----------+\n",
       "|2009-01-01|        XE|             1204|   DCA| EWR|        1100|  1058.0|     -2.0|    18.0|    1116.0|   1158.0|    8.0|        1202|  1206.0|      4.0|      0.0|             NULL|     0.0|            62.0|               68.0|    42.0|   199.0|         NULL|         NULL|     NULL|          NULL|               NULL|       NULL|\n",
       "|2009-01-01|        XE|             1206|   EWR| IAD|        1510|  1509.0|     -1.0|    28.0|    1537.0|   1620.0|    4.0|        1632|  1624.0|     -8.0|      0.0|             NULL|     0.0|            82.0|               75.0|    43.0|   213.0|         NULL|         NULL|     NULL|          NULL|               NULL|       NULL|\n",
       "|2009-01-01|        XE|             1207|   EWR| DCA|        1100|  1059.0|     -1.0|    20.0|    1119.0|   1155.0|    6.0|        1210|  1201.0|     -9.0|      0.0|             NULL|     0.0|            70.0|               62.0|    36.0|   199.0|         NULL|         NULL|     NULL|          NULL|               NULL|       NULL|\n",
       "|2009-01-01|        XE|             1208|   DCA| EWR|        1240|  1249.0|      9.0|    10.0|    1259.0|   1336.0|    9.0|        1357|  1345.0|    -12.0|      0.0|             NULL|     0.0|            77.0|               56.0|    37.0|   199.0|         NULL|         NULL|     NULL|          NULL|               NULL|       NULL|\n",
       "|2009-01-01|        XE|             1209|   IAD| EWR|        1715|  1705.0|    -10.0|    24.0|    1729.0|   1809.0|   13.0|        1900|  1822.0|    -38.0|      0.0|             NULL|     0.0|           105.0|               77.0|    40.0|   213.0|         NULL|         NULL|     NULL|          NULL|               NULL|       NULL|\n",
       "|2009-01-01|        XE|             1212|   ATL| EWR|        1915|  1913.0|     -2.0|    19.0|    1932.0|   2108.0|   15.0|        2142|  2123.0|    -19.0|      0.0|             NULL|     0.0|           147.0|              130.0|    96.0|   745.0|         NULL|         NULL|     NULL|          NULL|               NULL|       NULL|\n",
       "|2009-01-01|        XE|             1212|   CLE| ATL|        1645|  1637.0|     -8.0|    12.0|    1649.0|   1820.0|    5.0|        1842|  1825.0|    -17.0|      0.0|             NULL|     0.0|           117.0|              108.0|    91.0|   554.0|         NULL|         NULL|     NULL|          NULL|               NULL|       NULL|\n",
       "|2009-01-01|        XE|             1214|   DCA| EWR|        1915|  1908.0|     -7.0|     9.0|    1917.0|   1953.0|   34.0|        2035|  2027.0|     -8.0|      0.0|             NULL|     0.0|            80.0|               79.0|    36.0|   199.0|         NULL|         NULL|     NULL|          NULL|               NULL|       NULL|\n",
       "|2009-01-01|        XE|             1215|   EWR| DCA|        1715|  1710.0|     -5.0|    28.0|    1738.0|   1819.0|    4.0|        1838|  1823.0|    -15.0|      0.0|             NULL|     0.0|            83.0|               73.0|    41.0|   199.0|         NULL|         NULL|     NULL|          NULL|               NULL|       NULL|\n",
       "|2009-01-01|        XE|             1217|   EWR| DCA|        1300|  1255.0|     -5.0|    15.0|    1310.0|   1349.0|    7.0|        1408|  1356.0|    -12.0|      0.0|             NULL|     0.0|            68.0|               61.0|    39.0|   199.0|         NULL|         NULL|     NULL|          NULL|               NULL|       NULL|\n",
       "+----------+----------+-----------------+------+----+------------+--------+---------+--------+----------+---------+-------+------------+--------+---------+---------+-----------------+--------+----------------+-------------------+--------+--------+-------------+-------------+---------+--------------+-------------------+-----------+"
      ]
     },
     "metadata": {},
     "output_type": "display_data"
    }
   ],
   "source": [
    "flights_df= spark.read.csv(\"input/2009.csv\", header=True, inferSchema=True)\n",
    "display(flights_df.limit(10))"
   ]
  },
  {
   "cell_type": "code",
   "execution_count": 3,
   "id": "410b34e5-65b4-4e01-a0a4-bf7a639a5e75",
   "metadata": {},
   "outputs": [],
   "source": [
    "\n",
    "origin_airports = flights_df.select(F.col(\"ORIGIN\").alias(\"id\"))\n",
    "dest_airports = flights_df.select(F.col(\"DEST\").alias(\"id\"))\n",
    "\n",
    "vertices = origin_airports.union(dest_airports).distinct() # find set of all airports from either dest or origin column\n",
    "#vertices.show()             "
   ]
  },
  {
   "cell_type": "code",
   "execution_count": 4,
   "id": "1b48fbce-662a-47e2-bab5-e84965857264",
   "metadata": {},
   "outputs": [],
   "source": [
    "edges = flights_df.select(\n",
    "    F.col(\"ORIGIN\").alias(\"src\"),\n",
    "    F.col(\"DEST\").alias(\"dst\")\n",
    ").distinct() # without distinct, triangles do not make much sense?\n",
    "\n",
    "full_edges = flights_df.select(\n",
    "    F.col(\"ORIGIN\").alias(\"src\"),\n",
    "    F.col(\"DEST\").alias(\"dst\") # but depending on research question, both can be useful for other metrics \n",
    ")\n",
    "#edges.show()\n"
   ]
  },
  {
   "cell_type": "code",
   "execution_count": 5,
   "id": "08a82e91-6e69-4045-88bd-53b5a91821e0",
   "metadata": {},
   "outputs": [
    {
     "data": {
      "text/plain": [
       "GraphFrame(v:[id: string], e:[src: string, dst: string])"
      ]
     },
     "metadata": {},
     "output_type": "display_data"
    }
   ],
   "source": [
    "flights_graph = gf.GraphFrame(vertices, edges)\n",
    "full_flights_graph = gf.GraphFrame(vertices, full_edges)\n",
    "vertices.cache()\n",
    "edges.cache()\n",
    "full_edges.cache()\n",
    "display(flights_graph)"
   ]
  },
  {
   "cell_type": "markdown",
   "id": "135d2bc3-ec15-4296-9ed2-f0a47e2322ca",
   "metadata": {},
   "source": [
    "# Query 1"
   ]
  },
  {
   "cell_type": "code",
   "execution_count": 6,
   "id": "a1497906-158c-4022-9c5a-b4cc3c9ba1f8",
   "metadata": {
    "scrolled": true
   },
   "outputs": [],
   "source": [
    "#simple degree calculations (structure of reachability):\n",
    "\n",
    "in_degree = edges.groupBy(\"dst\").count() \\\n",
    "    .withColumnRenamed(\"dst\", \"id\") \\\n",
    "    .withColumnRenamed(\"count\", \"inDegree\")\n",
    "\n",
    "out_degree = edges.groupBy(\"src\").count() \\\n",
    "    .withColumnRenamed(\"src\", \"id\") \\\n",
    "    .withColumnRenamed(\"count\", \"outDegree\")\n",
    "\n",
    "total_degrees = in_degree.join(out_degree, \"id\", \"outer\") \\\n",
    "    .withColumn(\"totalDegree\", F.col(\"inDegree\") + F.col(\"outDegree\"))\n",
    "\n",
    "#degrees calculation(intesity)\n",
    "\n",
    "full_in_degree = full_edges.groupBy(\"dst\").count() \\\n",
    "    .withColumnRenamed(\"dst\", \"id\") \\\n",
    "    .withColumnRenamed(\"count\", \"inDegree\")\n",
    "\n",
    "full_out_degree = full_edges.groupBy(\"src\").count() \\\n",
    "    .withColumnRenamed(\"src\", \"id\") \\\n",
    "    .withColumnRenamed(\"count\", \"outDegree\")\n",
    "\n",
    "full_total_degrees = full_in_degree.join(full_out_degree, \"id\", \"outer\") \\\n",
    "    .withColumn(\"totalDegree\", F.col(\"inDegree\") + F.col(\"outDegree\"))"
   ]
  },
  {
   "cell_type": "code",
   "execution_count": 7,
   "id": "edeae427-d55c-4bc9-80bc-e89d709cffe8",
   "metadata": {
    "scrolled": true
   },
   "outputs": [],
   "source": [
    "#triangles # only without duplicates \n",
    "undirected_edges = edges.union(edges.selectExpr(\"dst as src\", \"src as dst\")).distinct() # default counter assumes graph is undirected\n",
    "\n",
    "neighbours = undirected_edges.groupBy(\"src\").agg(F.collect_set(\"dst\").alias(\"neighbors\")) # find a set of all options to go from airport\n",
    "#neighbours.show()\n",
    "neighbours.cache()\n",
    "\n",
    "joined = undirected_edges \\\n",
    "    .join(neighbours, on=\"src\") \\\n",
    "    .join(\n",
    "        neighbours.withColumnRenamed(\"src\", \"dst\").withColumnRenamed(\"neighbors\", \"dst_neighbors\"),\n",
    "        on=\"dst\"\n",
    "    )\n",
    "#joined.select(\"src\", \"dst\", \"neighbors\", \"dst_neighbors\").show()\n",
    "\n",
    "with_common = joined.withColumn(\n",
    "    \"common_neighbors\", size(array_intersect(\"neighbors\", \"dst_neighbors\"))\n",
    ")\n",
    "#with_common.select(\"src\", \"dst\", \"common_neighbors\").show()\n",
    "triangle_counts = with_common.groupBy(\"src\").agg(\n",
    "    (F.sum(\"common_neighbors\") / 2).cast(\"int\").alias(\"manual_count\")\n",
    ")\n",
    "triangle_counts = triangle_counts.withColumnRenamed(\"src\", \"id\")\n",
    "triangle_counts = triangle_counts.withColumnRenamed(\"manual_count\", \"count\") # to match in assert\n",
    "\n",
    "#triangle_counts.show()\n"
   ]
  },
  {
   "cell_type": "code",
   "execution_count": 8,
   "id": "487f92c5-adb0-454e-bb50-18dc42e2f248",
   "metadata": {
    "scrolled": true
   },
   "outputs": [],
   "source": [
    "# USED FOR VALIDATION ONLY: build in functions to verify results:\n",
    "to_test = True # can be changed to false to skip testing\n",
    "if(to_test):\n",
    "    in_degrees = flights_graph.inDegrees\n",
    "    out_degrees = flights_graph.outDegrees\n",
    "    assert(sorted(in_degree.collect()) == sorted(in_degrees.collect()))\n",
    "    assert(sorted(out_degree.collect()) == sorted(out_degrees.collect()))\n",
    "    triangles = flights_graph.triangleCount().select(\"id\",\"count\") # reorder columns to pass assert\n",
    "    assert(sorted(triangle_counts.collect()) == sorted(triangles.collect()))\n",
    "\n",
    "    full_in_degrees = full_flights_graph.inDegrees\n",
    "    full_out_degrees = full_flights_graph.outDegrees\n",
    "    assert(sorted(full_in_degree.collect()) == sorted(full_in_degrees.collect()))\n",
    "    assert(sorted(full_out_degree.collect()) == sorted(full_out_degrees.collect()))\n"
   ]
  },
  {
   "cell_type": "code",
   "execution_count": 9,
   "id": "dbde6677-9a22-4c57-9ca9-9fa1b95c60f6",
   "metadata": {
    "scrolled": true
   },
   "outputs": [
    {
     "name": "stdout",
     "output_type": "stream",
     "text": [
      "+---+--------+---------+-----------+-----+--------+---------+-----------+\n",
      "| id|inDegree|outDegree|totalDegree|count|inDegree|outDegree|totalDegree|\n",
      "+---+--------+---------+-----------+-----+--------+---------+-----------+\n",
      "|ABQ|      32|       31|         63|  311|   35577|    35582|      71159|\n",
      "|ACK|       2|        1|          3|    1|     343|      342|        685|\n",
      "|ALO|       1|        1|          2|    0|     331|      330|        661|\n",
      "|ANC|      28|       27|         55|  122|   17788|    17791|      35579|\n",
      "|AEX|       4|        4|          8|    6|    2948|     2947|       5895|\n",
      "|AKN|       1|        1|          2|    0|      77|       77|        154|\n",
      "|AUS|      36|       37|         73|  416|   41846|    41843|      83689|\n",
      "|ABY|       1|        1|          2|    0|     997|      995|       1992|\n",
      "|ACV|       5|        4|          9|    6|    3364|     3370|       6734|\n",
      "|ADK|       1|        1|          2|    0|     103|      103|        206|\n",
      "|ABE|       8|        7|         15|   27|    4037|     4034|       8071|\n",
      "|ACY|       2|        2|          4|    1|     522|      522|       1044|\n",
      "|AGS|       3|        3|          6|    5|    3106|     3107|       6213|\n",
      "|ATW|       7|        7|         14|   21|    5306|     5303|      10609|\n",
      "|ADQ|       1|        1|          2|    0|     631|      631|       1262|\n",
      "|AMA|       6|        6|         12|   12|    6649|     6649|      13298|\n",
      "|ATL|     165|      165|        330| 1761|  417457|   417449|     834906|\n",
      "|ABI|       1|        1|          2|    0|    2490|     2490|       4980|\n",
      "|ACT|       1|        1|          2|    0|    1052|     1053|       2105|\n",
      "|ALB|      18|       18|         36|  142|   12020|    12018|      24038|\n",
      "+---+--------+---------+-----------+-----+--------+---------+-----------+\n",
      "only showing top 20 rows\n",
      "\n"
     ]
    }
   ],
   "source": [
    "answer = total_degrees.join(triangle_counts, \"id\", \"left\")\n",
    "final_answer= answer.join(full_total_degrees,\"id\", \"left\")\n",
    "final_answer.show() #showing degrees for both single and multi edged graphs"
   ]
  },
  {
   "cell_type": "markdown",
   "id": "83d818fb-63dc-46e1-9335-46722205be65",
   "metadata": {},
   "source": [
    "# Query 2"
   ]
  },
  {
   "cell_type": "code",
   "execution_count": 10,
   "id": "65d3ae48-ccd8-4ed2-ba0d-50f7932a8dfa",
   "metadata": {},
   "outputs": [
    {
     "name": "stdout",
     "output_type": "stream",
     "text": [
      "+-----------------------+\n",
      "|total num. of triangles|\n",
      "+-----------------------+\n",
      "|                16015.0|\n",
      "+-----------------------+\n",
      "\n"
     ]
    }
   ],
   "source": [
    "count = triangle_counts.agg((F.sum(\"count\") /3).alias(\"total num. of triangles\")) # sum all and divide by 3 as each triangle is made of 3 airports counting it\n",
    "count.show()"
   ]
  },
  {
   "cell_type": "markdown",
   "id": "2b88b325-2c3e-48eb-82db-e07ca9448e92",
   "metadata": {},
   "source": [
    "# Query 3"
   ]
  },
  {
   "cell_type": "markdown",
   "id": "6edd7e1d-6653-44df-ade3-ed5d81efd603",
   "metadata": {},
   "source": [
    "The chosen centrality measure is Eigenvector Centrality. It measures a node’s importance based on how well-connected its neighbors are. Unlike PageRank, it does not use a damping factor and treats all influence as coming directly from connected nodes without accounting for jumps or teleportation from further nodes. In the context of flights, it allows to measure centrality based on direct flights from popular airports."
   ]
  },
  {
   "cell_type": "code",
   "execution_count": 11,
   "id": "ed94cf4c-5e30-4175-b367-9e1684d17213",
   "metadata": {},
   "outputs": [
    {
     "name": "stdout",
     "output_type": "stream",
     "text": [
      "+---+--------------------+\n",
      "| id|               score|\n",
      "+---+--------------------+\n",
      "|ATL| 0.01884168732768111|\n",
      "|ORD|0.018110084675545444|\n",
      "|DFW|0.017016256953545333|\n",
      "|DTW|0.016770254346926333|\n",
      "|DEN|0.016185588480572572|\n",
      "|MSP| 0.01616749521473975|\n",
      "|IAH|0.015682789267655338|\n",
      "|CVG| 0.01512316035975816|\n",
      "|LAS|0.014596222840050355|\n",
      "|EWR|0.014355588217040303|\n",
      "|PHX|0.014328265155340731|\n",
      "|MEM|0.014090583475358685|\n",
      "|MCO|0.013613478113955267|\n",
      "|CLT|0.013598602138313867|\n",
      "|LAX|0.013278321168654492|\n",
      "|SLC|0.013227605218655115|\n",
      "|BWI|0.013205945160437514|\n",
      "|IAD|0.013022968172385114|\n",
      "|CLE|0.012996524760204803|\n",
      "|JFK|0.012822879580061723|\n",
      "+---+--------------------+\n",
      "only showing top 20 rows\n",
      "\n"
     ]
    }
   ],
   "source": [
    "# Initialize all nodes with score 1.0\n",
    "v = vertices.withColumn(\"score\", F.lit(1.0))\n",
    "\n",
    "num_of_iterations = 10\n",
    "\n",
    "for i in range(num_of_iterations):\n",
    "    # Join edges with vertex scores to propagate influence\n",
    "    joined = edges.join(v, edges.src == v.id) \\\n",
    "                  .select(\"dst\", \"score\")\n",
    "\n",
    "    # Sum incoming scores for each destination node\n",
    "    updated_scores = joined.groupBy(\"dst\") \\\n",
    "                           .agg(F.sum(\"score\").alias(\"new_score\"))\n",
    "\n",
    "    # Normalize scores (done to keep the scores within a consistent range, ensuring that they remain comparable)\n",
    "    norm = updated_scores.agg(F.sum(\"new_score\").alias(\"norm_val\")).collect()[0][\"norm_val\"]\n",
    "    updated_scores = updated_scores.withColumn(\"score\", F.col(\"new_score\") / F.lit(norm)) \\\n",
    "                                   .select(F.col(\"dst\").alias(\"id\"), \"score\")\n",
    "\n",
    "    # Update the vertex scores with the new scores for the next iteration, filling any missing values with 0.0\n",
    "    v = vertices.join(updated_scores, \"id\", \"left_outer\") \\\n",
    "                .fillna(0.0, subset=[\"score\"])\n",
    "\n",
    "eigenvector_centrality = v.orderBy(\"score\", ascending=False)\n",
    "eigenvector_centrality.show()\n"
   ]
  },
  {
   "cell_type": "code",
   "execution_count": 12,
   "id": "b2666171-025e-44e1-aeb0-1e751eeed85d",
   "metadata": {},
   "outputs": [
    {
     "name": "stdout",
     "output_type": "stream",
     "text": [
      "+---+--------------------+-------+--------------------+-------+\n",
      "| id|               score|q3_rank|            nx_score|nx_rank|\n",
      "+---+--------------------+-------+--------------------+-------+\n",
      "|ATL| 0.01884168732768111|      1| 0.01884499007617432|      1|\n",
      "|ORD|0.018110084675545444|      2|0.018113072392037625|      2|\n",
      "|DFW|0.017016256953545333|      3| 0.01701879558091883|      3|\n",
      "|DTW|0.016770254346926333|      4|0.016772806665139375|      4|\n",
      "|DEN|0.016185588480572572|      5|0.016187465560831293|      5|\n",
      "|MSP| 0.01616749521473975|      6| 0.01616965554172049|      6|\n",
      "|IAH|0.015682789267655338|      7|0.015684759450529235|      7|\n",
      "|CVG| 0.01512316035975816|      8|0.015125031640432565|      8|\n",
      "|LAS|0.014596222840050355|      9|0.014597356212398866|      9|\n",
      "|EWR|0.014355588217040303|     10|0.014357293204337224|     10|\n",
      "|PHX|0.014328265155340731|     11|0.014329322069792566|     11|\n",
      "|MEM|0.014090583475358685|     12|0.014092166585833024|     12|\n",
      "|MCO|0.013613478113955267|     13| 0.01361452785457125|     13|\n",
      "|CLT|0.013598602138313867|     14|0.013599828601781837|     14|\n",
      "|LAX|0.013278321168654492|     15|0.013279089986495546|     15|\n",
      "|SLC|0.013227605218655115|     16|0.013228624072236773|     16|\n",
      "|BWI|0.013205945160437514|     17|0.013206802915325137|     17|\n",
      "|IAD|0.013022968172385114|     18|0.013023926697622977|     18|\n",
      "|CLE|0.012996524760204803|     19|0.012997300879487677|     19|\n",
      "|JFK|0.012822879580061723|     20|0.012823725245535243|     20|\n",
      "+---+--------------------+-------+--------------------+-------+\n",
      "only showing top 20 rows\n",
      "\n"
     ]
    }
   ],
   "source": [
    "import networkx as nx #testing Q3\n",
    "G = nx.DiGraph()\n",
    "G.add_edges_from(edges.collect())\n",
    "\n",
    "centrality_nx = nx.eigenvector_centrality(G)\n",
    "total=sum(centrality_nx.values())\n",
    "centrality_nx = {k: v /total for k, v in centrality_nx.items()} # converting to L1 \n",
    "#for row in eigenvector_centrality.collect():  #\n",
    "#    print(row[\"id\"], row[\"score\"], centrality_nx[row[\"id\"]]) # small differences remain as nx initalises randomly\n",
    "q3_df = eigenvector_centrality.select(\"id\", \"score\")\n",
    "nx_df = spark.createDataFrame(centrality_nx.items(), [\"id\", \"nx_score\"])\n",
    "\n",
    "w = Window.orderBy(F.desc(\"score\"))\n",
    "q3_ranked = q3_df.withColumn(\"q3_rank\", rank().over(w))\n",
    "w2 = Window.orderBy(F.desc(\"nx_score\"))\n",
    "nx_ranked = nx_df.withColumn(\"nx_rank\", rank().over(w2))\n",
    "\n",
    "comparision= q3_ranked.join(nx_ranked, \"id\")\n",
    "comparision.show() # but relative ordder matches perfectly - including ties"
   ]
  },
  {
   "cell_type": "markdown",
   "id": "0bc0856b-4567-4381-a1b4-0d699d5907cc",
   "metadata": {},
   "source": [
    "# Query 4\n",
    "\n",
    "Page Rank implementation using raw GraphFrames"
   ]
  },
  {
   "cell_type": "code",
   "execution_count": 13,
   "id": "7d1d02c0",
   "metadata": {},
   "outputs": [],
   "source": [
    "# Initalize all vertices with a score of 1 (1 / num_vertices is actually easier but the built in PageRank function does not do that)\n",
    "v = flights_graph.vertices.withColumn(\"score\", F.lit(1.0))\n",
    "e = flights_graph.edges"
   ]
  },
  {
   "cell_type": "code",
   "execution_count": 14,
   "id": "f476442e",
   "metadata": {},
   "outputs": [],
   "source": [
    "iters = 10\n",
    "damping = 0.85\n",
    "\n",
    "for i in range(iters):\n",
    "    # Calculate how much each node contributes to its neighbors and attach that score to the edges\n",
    "    contributions = edges.join(v, edges.src == v.id) \\\n",
    "                    .select(\"dst\", (F.col(\"score\") / F.count(\"dst\").over(Window.partitionBy(\"src\"))).alias(\"contribution\"))\n",
    "    \n",
    "    # Calculate the incoming contributions for each node\n",
    "    incoming = contributions.groupBy(\"dst\") \\\n",
    "        .agg(F.sum(\"contribution\").alias(\"incoming\"))\n",
    "    \n",
    "    # Apply damping as per the lecture and calculate the new scores\n",
    "    dampened = incoming.withColumn(\"score\", (1 - damping) + damping * F.col(\"incoming\")) \\\n",
    "        .select(F.col(\"dst\").alias(\"id\"), \"score\")\n",
    "    \n",
    "    # Update the vertices (needs to be left_outer)\n",
    "    # For vertices with no incoming edges, assign (1-damping) instead of 0 (to perfectly match the built-in PageRank implementation)\n",
    "    v = vertices.join(dampened, \"id\", \"left_outer\") \\\n",
    "        .withColumn(\"score\", F.coalesce(F.col(\"score\"), F.lit(1 - damping))) \\\n",
    "        .select(\"id\", \"score\")"
   ]
  },
  {
   "cell_type": "code",
   "execution_count": 15,
   "id": "ee954af6",
   "metadata": {},
   "outputs": [
    {
     "name": "stdout",
     "output_type": "stream",
     "text": [
      "+---+------------------+------------------+\n",
      "|id |custom_score      |built_in_score    |\n",
      "+---+------------------+------------------+\n",
      "|ATL|11.335268868250697|11.335268868250694|\n",
      "|DFW|8.987200141119203 |8.987200141119201 |\n",
      "|ORD|8.33083208401115  |8.330832084011147 |\n",
      "|DTW|7.722346489398372 |7.722346489398372 |\n",
      "|MSP|7.592985738022308 |7.592985738022308 |\n",
      "|DEN|7.026287164606544 |7.026287164606543 |\n",
      "|SLC|6.764494781487534 |6.7644947814875325|\n",
      "|IAH|5.662321605756484 |5.662321605756484 |\n",
      "|LAX|5.070949815830091 |5.070949815830091 |\n",
      "|CVG|4.8567913760847174|4.8567913760847174|\n",
      "+---+------------------+------------------+\n",
      "only showing top 10 rows\n",
      "\n"
     ]
    }
   ],
   "source": [
    "# Get the final results from the custom implementation\n",
    "custom_pagerank = v.select(\"id\", F.col(\"score\").alias(\"custom_score\"))\n",
    "\n",
    "built_in_result = flights_graph.pageRank(resetProbability=1-damping, maxIter=iters)\n",
    "built_in_pagerank = built_in_result.vertices.select(\"id\", F.col(\"pagerank\").alias(\"built_in_score\"))\n",
    "\n",
    "# Join the results to compare\n",
    "comparison = custom_pagerank.join(built_in_pagerank, \"id\")\n",
    "\n",
    "comparison.orderBy(\"custom_score\", ascending=False).show(10, False)"
   ]
  },
  {
   "cell_type": "markdown",
   "id": "3d0d6ed3",
   "metadata": {},
   "source": [
    "## Results\n",
    "\n",
    "The results show that the most \"important\" airport is the Hartsfield–Jackson Atlanta International Airport (ATL). This also matches with the fact that Atlanta is known to be the busiest airport in the US by quite a margin. All of the other airports in the top 10 are also considered to be very busy but the exact order differs slightly. For example, the Los Angeles International Airport (LAX) is considered to be the second busiest but it is ranked 9th by PageRank. This is likely because the edges in our graph are not weighted in any way (could use something like nr. of passengers per year)."
   ]
  },
  {
   "cell_type": "markdown",
   "id": "06e67322",
   "metadata": {},
   "source": [
    "# Query 5\n",
    "\n",
    "\n"
   ]
  },
  {
   "cell_type": "code",
   "execution_count": 16,
   "id": "227b74c4-3856-441f-b647-c70219b9e9b7",
   "metadata": {},
   "outputs": [
    {
     "name": "stdout",
     "output_type": "stream",
     "text": [
      "Converged after 4 iterations\n",
      "+------+--------------------+\n",
      "|scc_id|     airports_in_scc|\n",
      "+------+--------------------+\n",
      "|   ABE|[ABQ, ACK, ALO, A...|\n",
      "+------+--------------------+\n",
      "\n",
      "+-------------+\n",
      "|num of groups|\n",
      "+-------------+\n",
      "|            1|\n",
      "+-------------+\n",
      "\n",
      "+------+------------+\n",
      "|scc_id|num_airports|\n",
      "+------+------------+\n",
      "|   ABE|         296|\n",
      "+------+------------+\n",
      "\n"
     ]
    }
   ],
   "source": [
    "scc = vertices.withColumn(\"scc_id\", col(\"id\"))\n",
    "\n",
    "reversed_edges =edges.select(\n",
    "    col(\"dst\").alias(\"src\"),\n",
    "    col(\"src\").alias(\"dst\")\n",
    ")\n",
    "for i in range(10): # in this dataset, all airports should be in same group after 4 iterations already\n",
    "    updates= (\n",
    "        reversed_edges.join(\n",
    "        scc,\n",
    "        reversed_edges[\"src\"] == scc[\"id\"],\n",
    "        \"inner\"\n",
    "    ).groupBy(\"dst\").agg(\n",
    "        min(\"scc_id\").alias(\"new_scc_id\"))\n",
    "    )\n",
    "    updates = updates.join( # remove old updates to check if finished\n",
    "        scc,\n",
    "        updates[\"dst\"] == scc[\"id\"],\n",
    "        \"inner\"\n",
    "    ).filter(\n",
    "        col(\"new_scc_id\") < col(\"scc_id\")\n",
    "    ).select(\"dst\", \"new_scc_id\")\n",
    "    if updates.isEmpty():\n",
    "        print(f\"Converged after {i} iterations\")\n",
    "        break\n",
    "    scc = scc.join(\n",
    "    updates,\n",
    "    scc[\"id\"] == updates[\"dst\"],\n",
    "    \"left_outer\"\n",
    "    ).select(\n",
    "        scc[\"id\"],\n",
    "        coalesce(least(scc[\"scc_id\"], updates[\"new_scc_id\"]), scc[\"scc_id\"]).alias(\"scc_id\")\n",
    "    )\n",
    "    scc.cache()\n",
    "\n",
    "\n",
    "scc_result = scc.groupBy(\"scc_id\").agg(\n",
    "    collect_list(\"id\").alias(\"airports_in_scc\")\n",
    ")\n",
    "scc_result.show()\n",
    "scc_count=scc_result.select(countDistinct(\"scc_id\").alias(\"num of groups\"))\n",
    "scc_count.show()\n",
    "scc_summary = scc_result.withColumn(\n",
    "    \"num_airports\", F.size(\"airports_in_scc\")\n",
    ").select(\"scc_id\", \"num_airports\").orderBy(\"scc_id\")\n",
    "scc_summary.show()"
   ]
  },
  {
   "cell_type": "markdown",
   "id": "289fbe6e-4310-4d8a-b585-20afff60be2b",
   "metadata": {},
   "source": [
    "The entire graph seems to be strongly connected (a directed path between all airports in both directions).\n",
    "Testing with build in function:"
   ]
  },
  {
   "cell_type": "code",
   "execution_count": 17,
   "id": "e3e7f64e",
   "metadata": {},
   "outputs": [
    {
     "name": "stdout",
     "output_type": "stream",
     "text": [
      "+---------+-----+\n",
      "|component|count|\n",
      "+---------+-----+\n",
      "|0        |296  |\n",
      "+---------+-----+\n",
      "\n"
     ]
    }
   ],
   "source": [
    "spark.sparkContext.setCheckpointDir(\"/tmp/spark-checkpoints\")\n",
    "\n",
    "strongly_connected = flights_graph.stronglyConnectedComponents(maxIter=10)\n",
    "scc_sizes = strongly_connected.groupBy(\"component\").count().orderBy(\"count\", ascending=False)\n",
    "scc_sizes.show(10, False)\n"
   ]
  }
 ],
 "metadata": {
  "kernelspec": {
   "display_name": "Python 3 (ipykernel)",
   "language": "python",
   "name": "python3"
  },
  "language_info": {
   "codemirror_mode": {
    "name": "ipython",
    "version": 3
   },
   "file_extension": ".py",
   "mimetype": "text/x-python",
   "name": "python",
   "nbconvert_exporter": "python",
   "pygments_lexer": "ipython3",
   "version": "3.11.10"
  }
 },
 "nbformat": 4,
 "nbformat_minor": 5
}
