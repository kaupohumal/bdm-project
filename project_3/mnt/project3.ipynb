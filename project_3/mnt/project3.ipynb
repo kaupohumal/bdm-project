{
 "cells": [
  {
   "cell_type": "markdown",
   "id": "69ad7d27-d8e8-4a70-90e4-157f239ea43a",
   "metadata": {},
   "source": [
    "# Creating graphframe"
   ]
  },
  {
   "cell_type": "code",
   "execution_count": 1,
   "id": "4b5aa17f-4537-4860-9335-302d9cf6eccd",
   "metadata": {},
   "outputs": [],
   "source": [
    "import pyspark\n",
    "from delta import configure_spark_with_delta_pip\n",
    "\n",
    "import pyspark.sql.functions as F\n",
    "from pyspark.sql.functions import col, array, explode, sum as Fsum\n",
    "from pyspark.sql.functions import array_intersect, size\n",
    "\n",
    "\n",
    "# Prepare the Spark builder\n",
    "builder = pyspark.sql.SparkSession.builder.appName(\"Graphs_Practice\") \\\n",
    "    .config(\"spark.sql.extensions\", \"io.delta.sql.DeltaSparkSessionExtension\") \\\n",
    "    .config(\"spark.sql.catalog.spark_catalog\", \"org.apache.spark.sql.delta.catalog.DeltaCatalog\")\n",
    "\n",
    "spark = configure_spark_with_delta_pip(builder,extra_packages=[\"graphframes:graphframes:0.8.4-spark3.5-s_2.12\"]).getOrCreate()\n",
    "spark.conf.set(\"spark.sql.shuffle.partitions\", spark._sc.defaultParallelism)\n",
    "\n",
    "spark.conf.set(\"spark.sql.repl.eagerEval.enabled\",True) # OK for exploration, not great for performance\n",
    "spark.conf.set(\"spark.sql.repl.eagerEval.truncate\", 500)\n",
    "import graphframes as gf\n",
    "\n"
   ]
  },
  {
   "cell_type": "code",
   "execution_count": 3,
   "id": "dbddad48-9c18-4f1b-ba41-26552fbb83af",
   "metadata": {},
   "outputs": [
    {
     "data": {
      "text/html": [
       "<table border='1'>\n",
       "<tr><th>FL_DATE</th><th>OP_CARRIER</th><th>OP_CARRIER_FL_NUM</th><th>ORIGIN</th><th>DEST</th><th>CRS_DEP_TIME</th><th>DEP_TIME</th><th>DEP_DELAY</th><th>TAXI_OUT</th><th>WHEELS_OFF</th><th>WHEELS_ON</th><th>TAXI_IN</th><th>CRS_ARR_TIME</th><th>ARR_TIME</th><th>ARR_DELAY</th><th>CANCELLED</th><th>CANCELLATION_CODE</th><th>DIVERTED</th><th>CRS_ELAPSED_TIME</th><th>ACTUAL_ELAPSED_TIME</th><th>AIR_TIME</th><th>DISTANCE</th><th>CARRIER_DELAY</th><th>WEATHER_DELAY</th><th>NAS_DELAY</th><th>SECURITY_DELAY</th><th>LATE_AIRCRAFT_DELAY</th><th>Unnamed: 27</th></tr>\n",
       "<tr><td>2009-01-01</td><td>XE</td><td>1204</td><td>DCA</td><td>EWR</td><td>1100</td><td>1058.0</td><td>-2.0</td><td>18.0</td><td>1116.0</td><td>1158.0</td><td>8.0</td><td>1202</td><td>1206.0</td><td>4.0</td><td>0.0</td><td>NULL</td><td>0.0</td><td>62.0</td><td>68.0</td><td>42.0</td><td>199.0</td><td>NULL</td><td>NULL</td><td>NULL</td><td>NULL</td><td>NULL</td><td>NULL</td></tr>\n",
       "<tr><td>2009-01-01</td><td>XE</td><td>1206</td><td>EWR</td><td>IAD</td><td>1510</td><td>1509.0</td><td>-1.0</td><td>28.0</td><td>1537.0</td><td>1620.0</td><td>4.0</td><td>1632</td><td>1624.0</td><td>-8.0</td><td>0.0</td><td>NULL</td><td>0.0</td><td>82.0</td><td>75.0</td><td>43.0</td><td>213.0</td><td>NULL</td><td>NULL</td><td>NULL</td><td>NULL</td><td>NULL</td><td>NULL</td></tr>\n",
       "<tr><td>2009-01-01</td><td>XE</td><td>1207</td><td>EWR</td><td>DCA</td><td>1100</td><td>1059.0</td><td>-1.0</td><td>20.0</td><td>1119.0</td><td>1155.0</td><td>6.0</td><td>1210</td><td>1201.0</td><td>-9.0</td><td>0.0</td><td>NULL</td><td>0.0</td><td>70.0</td><td>62.0</td><td>36.0</td><td>199.0</td><td>NULL</td><td>NULL</td><td>NULL</td><td>NULL</td><td>NULL</td><td>NULL</td></tr>\n",
       "<tr><td>2009-01-01</td><td>XE</td><td>1208</td><td>DCA</td><td>EWR</td><td>1240</td><td>1249.0</td><td>9.0</td><td>10.0</td><td>1259.0</td><td>1336.0</td><td>9.0</td><td>1357</td><td>1345.0</td><td>-12.0</td><td>0.0</td><td>NULL</td><td>0.0</td><td>77.0</td><td>56.0</td><td>37.0</td><td>199.0</td><td>NULL</td><td>NULL</td><td>NULL</td><td>NULL</td><td>NULL</td><td>NULL</td></tr>\n",
       "<tr><td>2009-01-01</td><td>XE</td><td>1209</td><td>IAD</td><td>EWR</td><td>1715</td><td>1705.0</td><td>-10.0</td><td>24.0</td><td>1729.0</td><td>1809.0</td><td>13.0</td><td>1900</td><td>1822.0</td><td>-38.0</td><td>0.0</td><td>NULL</td><td>0.0</td><td>105.0</td><td>77.0</td><td>40.0</td><td>213.0</td><td>NULL</td><td>NULL</td><td>NULL</td><td>NULL</td><td>NULL</td><td>NULL</td></tr>\n",
       "<tr><td>2009-01-01</td><td>XE</td><td>1212</td><td>ATL</td><td>EWR</td><td>1915</td><td>1913.0</td><td>-2.0</td><td>19.0</td><td>1932.0</td><td>2108.0</td><td>15.0</td><td>2142</td><td>2123.0</td><td>-19.0</td><td>0.0</td><td>NULL</td><td>0.0</td><td>147.0</td><td>130.0</td><td>96.0</td><td>745.0</td><td>NULL</td><td>NULL</td><td>NULL</td><td>NULL</td><td>NULL</td><td>NULL</td></tr>\n",
       "<tr><td>2009-01-01</td><td>XE</td><td>1212</td><td>CLE</td><td>ATL</td><td>1645</td><td>1637.0</td><td>-8.0</td><td>12.0</td><td>1649.0</td><td>1820.0</td><td>5.0</td><td>1842</td><td>1825.0</td><td>-17.0</td><td>0.0</td><td>NULL</td><td>0.0</td><td>117.0</td><td>108.0</td><td>91.0</td><td>554.0</td><td>NULL</td><td>NULL</td><td>NULL</td><td>NULL</td><td>NULL</td><td>NULL</td></tr>\n",
       "<tr><td>2009-01-01</td><td>XE</td><td>1214</td><td>DCA</td><td>EWR</td><td>1915</td><td>1908.0</td><td>-7.0</td><td>9.0</td><td>1917.0</td><td>1953.0</td><td>34.0</td><td>2035</td><td>2027.0</td><td>-8.0</td><td>0.0</td><td>NULL</td><td>0.0</td><td>80.0</td><td>79.0</td><td>36.0</td><td>199.0</td><td>NULL</td><td>NULL</td><td>NULL</td><td>NULL</td><td>NULL</td><td>NULL</td></tr>\n",
       "<tr><td>2009-01-01</td><td>XE</td><td>1215</td><td>EWR</td><td>DCA</td><td>1715</td><td>1710.0</td><td>-5.0</td><td>28.0</td><td>1738.0</td><td>1819.0</td><td>4.0</td><td>1838</td><td>1823.0</td><td>-15.0</td><td>0.0</td><td>NULL</td><td>0.0</td><td>83.0</td><td>73.0</td><td>41.0</td><td>199.0</td><td>NULL</td><td>NULL</td><td>NULL</td><td>NULL</td><td>NULL</td><td>NULL</td></tr>\n",
       "<tr><td>2009-01-01</td><td>XE</td><td>1217</td><td>EWR</td><td>DCA</td><td>1300</td><td>1255.0</td><td>-5.0</td><td>15.0</td><td>1310.0</td><td>1349.0</td><td>7.0</td><td>1408</td><td>1356.0</td><td>-12.0</td><td>0.0</td><td>NULL</td><td>0.0</td><td>68.0</td><td>61.0</td><td>39.0</td><td>199.0</td><td>NULL</td><td>NULL</td><td>NULL</td><td>NULL</td><td>NULL</td><td>NULL</td></tr>\n",
       "</table>\n"
      ],
      "text/plain": [
       "+----------+----------+-----------------+------+----+------------+--------+---------+--------+----------+---------+-------+------------+--------+---------+---------+-----------------+--------+----------------+-------------------+--------+--------+-------------+-------------+---------+--------------+-------------------+-----------+\n",
       "|   FL_DATE|OP_CARRIER|OP_CARRIER_FL_NUM|ORIGIN|DEST|CRS_DEP_TIME|DEP_TIME|DEP_DELAY|TAXI_OUT|WHEELS_OFF|WHEELS_ON|TAXI_IN|CRS_ARR_TIME|ARR_TIME|ARR_DELAY|CANCELLED|CANCELLATION_CODE|DIVERTED|CRS_ELAPSED_TIME|ACTUAL_ELAPSED_TIME|AIR_TIME|DISTANCE|CARRIER_DELAY|WEATHER_DELAY|NAS_DELAY|SECURITY_DELAY|LATE_AIRCRAFT_DELAY|Unnamed: 27|\n",
       "+----------+----------+-----------------+------+----+------------+--------+---------+--------+----------+---------+-------+------------+--------+---------+---------+-----------------+--------+----------------+-------------------+--------+--------+-------------+-------------+---------+--------------+-------------------+-----------+\n",
       "|2009-01-01|        XE|             1204|   DCA| EWR|        1100|  1058.0|     -2.0|    18.0|    1116.0|   1158.0|    8.0|        1202|  1206.0|      4.0|      0.0|             NULL|     0.0|            62.0|               68.0|    42.0|   199.0|         NULL|         NULL|     NULL|          NULL|               NULL|       NULL|\n",
       "|2009-01-01|        XE|             1206|   EWR| IAD|        1510|  1509.0|     -1.0|    28.0|    1537.0|   1620.0|    4.0|        1632|  1624.0|     -8.0|      0.0|             NULL|     0.0|            82.0|               75.0|    43.0|   213.0|         NULL|         NULL|     NULL|          NULL|               NULL|       NULL|\n",
       "|2009-01-01|        XE|             1207|   EWR| DCA|        1100|  1059.0|     -1.0|    20.0|    1119.0|   1155.0|    6.0|        1210|  1201.0|     -9.0|      0.0|             NULL|     0.0|            70.0|               62.0|    36.0|   199.0|         NULL|         NULL|     NULL|          NULL|               NULL|       NULL|\n",
       "|2009-01-01|        XE|             1208|   DCA| EWR|        1240|  1249.0|      9.0|    10.0|    1259.0|   1336.0|    9.0|        1357|  1345.0|    -12.0|      0.0|             NULL|     0.0|            77.0|               56.0|    37.0|   199.0|         NULL|         NULL|     NULL|          NULL|               NULL|       NULL|\n",
       "|2009-01-01|        XE|             1209|   IAD| EWR|        1715|  1705.0|    -10.0|    24.0|    1729.0|   1809.0|   13.0|        1900|  1822.0|    -38.0|      0.0|             NULL|     0.0|           105.0|               77.0|    40.0|   213.0|         NULL|         NULL|     NULL|          NULL|               NULL|       NULL|\n",
       "|2009-01-01|        XE|             1212|   ATL| EWR|        1915|  1913.0|     -2.0|    19.0|    1932.0|   2108.0|   15.0|        2142|  2123.0|    -19.0|      0.0|             NULL|     0.0|           147.0|              130.0|    96.0|   745.0|         NULL|         NULL|     NULL|          NULL|               NULL|       NULL|\n",
       "|2009-01-01|        XE|             1212|   CLE| ATL|        1645|  1637.0|     -8.0|    12.0|    1649.0|   1820.0|    5.0|        1842|  1825.0|    -17.0|      0.0|             NULL|     0.0|           117.0|              108.0|    91.0|   554.0|         NULL|         NULL|     NULL|          NULL|               NULL|       NULL|\n",
       "|2009-01-01|        XE|             1214|   DCA| EWR|        1915|  1908.0|     -7.0|     9.0|    1917.0|   1953.0|   34.0|        2035|  2027.0|     -8.0|      0.0|             NULL|     0.0|            80.0|               79.0|    36.0|   199.0|         NULL|         NULL|     NULL|          NULL|               NULL|       NULL|\n",
       "|2009-01-01|        XE|             1215|   EWR| DCA|        1715|  1710.0|     -5.0|    28.0|    1738.0|   1819.0|    4.0|        1838|  1823.0|    -15.0|      0.0|             NULL|     0.0|            83.0|               73.0|    41.0|   199.0|         NULL|         NULL|     NULL|          NULL|               NULL|       NULL|\n",
       "|2009-01-01|        XE|             1217|   EWR| DCA|        1300|  1255.0|     -5.0|    15.0|    1310.0|   1349.0|    7.0|        1408|  1356.0|    -12.0|      0.0|             NULL|     0.0|            68.0|               61.0|    39.0|   199.0|         NULL|         NULL|     NULL|          NULL|               NULL|       NULL|\n",
       "+----------+----------+-----------------+------+----+------------+--------+---------+--------+----------+---------+-------+------------+--------+---------+---------+-----------------+--------+----------------+-------------------+--------+--------+-------------+-------------+---------+--------------+-------------------+-----------+"
      ]
     },
     "metadata": {},
     "output_type": "display_data"
    }
   ],
   "source": [
    "flights_df= spark.read.csv(\"input/2009.csv\", header=True, inferSchema=True)\n",
    "display(flights_df.limit(10))"
   ]
  },
  {
   "cell_type": "code",
   "execution_count": 4,
   "id": "410b34e5-65b4-4e01-a0a4-bf7a639a5e75",
   "metadata": {},
   "outputs": [],
   "source": [
    "\n",
    "origin_airports = flights_df.select(F.col(\"ORIGIN\").alias(\"id\"))\n",
    "dest_airports = flights_df.select(F.col(\"DEST\").alias(\"id\"))\n",
    "\n",
    "vertices = origin_airports.union(dest_airports).distinct() # find set of all airports from either dest or origin column\n",
    "#vertices.show()             "
   ]
  },
  {
   "cell_type": "code",
   "execution_count": 5,
   "id": "1b48fbce-662a-47e2-bab5-e84965857264",
   "metadata": {},
   "outputs": [],
   "source": [
    "edges = flights_df.select(\n",
    "    F.col(\"ORIGIN\").alias(\"src\"),\n",
    "    F.col(\"DEST\").alias(\"dst\")\n",
    ").distinct() # without distinct, triangles do not make much sense?\n",
    "\n",
    "#edges.show()\n"
   ]
  },
  {
   "cell_type": "code",
   "execution_count": 6,
   "id": "08a82e91-6e69-4045-88bd-53b5a91821e0",
   "metadata": {},
   "outputs": [
    {
     "data": {
      "text/plain": [
       "GraphFrame(v:[id: string], e:[src: string, dst: string])"
      ]
     },
     "metadata": {},
     "output_type": "display_data"
    }
   ],
   "source": [
    "flights_graph = gf.GraphFrame(vertices, edges)\n",
    "vertices.cache()\n",
    "edges.cache()\n",
    "display(flights_graph)"
   ]
  },
  {
   "cell_type": "markdown",
   "id": "135d2bc3-ec15-4296-9ed2-f0a47e2322ca",
   "metadata": {},
   "source": [
    "# Query 1"
   ]
  },
  {
   "cell_type": "code",
   "execution_count": 6,
   "id": "a1497906-158c-4022-9c5a-b4cc3c9ba1f8",
   "metadata": {
    "scrolled": true
   },
   "outputs": [],
   "source": [
    "#degree calculations:\n",
    "\n",
    "in_degree = edges.groupBy(\"dst\").count() \\\n",
    "    .withColumnRenamed(\"dst\", \"id\") \\\n",
    "    .withColumnRenamed(\"count\", \"inDegree\")\n",
    "\n",
    "out_degree = edges.groupBy(\"src\").count() \\\n",
    "    .withColumnRenamed(\"src\", \"id\") \\\n",
    "    .withColumnRenamed(\"count\", \"outDegree\")\n",
    "\n",
    "total_degrees = in_degree.join(out_degree, \"id\", \"outer\") \\\n",
    "    .withColumn(\"totalDegree\", F.col(\"inDegree\") + F.col(\"outDegree\"))"
   ]
  },
  {
   "cell_type": "code",
   "execution_count": 7,
   "id": "edeae427-d55c-4bc9-80bc-e89d709cffe8",
   "metadata": {
    "scrolled": true
   },
   "outputs": [],
   "source": [
    "#triangles \n",
    "undirected_edges = edges.union(edges.selectExpr(\"dst as src\", \"src as dst\")).distinct() # default counter assumes graph is undirected\n",
    "\n",
    "neighbours = undirected_edges.groupBy(\"src\").agg(F.collect_set(\"dst\").alias(\"neighbors\")) # find a set of all options to go from airport\n",
    "#neighbours.show()\n",
    "neighbours.cache()\n",
    "\n",
    "joined = undirected_edges \\\n",
    "    .join(neighbours, on=\"src\") \\\n",
    "    .join(\n",
    "        neighbours.withColumnRenamed(\"src\", \"dst\").withColumnRenamed(\"neighbors\", \"dst_neighbors\"),\n",
    "        on=\"dst\"\n",
    "    )\n",
    "#joined.select(\"src\", \"dst\", \"neighbors\", \"dst_neighbors\").show()\n",
    "\n",
    "with_common = joined.withColumn(\n",
    "    \"common_neighbors\", size(array_intersect(\"neighbors\", \"dst_neighbors\"))\n",
    ")\n",
    "#with_common.select(\"src\", \"dst\", \"common_neighbors\").show()\n",
    "triangle_counts = with_common.groupBy(\"src\").agg(\n",
    "    (F.sum(\"common_neighbors\") / 2).cast(\"int\").alias(\"manual_count\")\n",
    ")\n",
    "triangle_counts = triangle_counts.withColumnRenamed(\"src\", \"id\")\n",
    "triangle_counts = triangle_counts.withColumnRenamed(\"manual_count\", \"count\") # to match in assert\n",
    "\n",
    "#triangle_counts.show()\n"
   ]
  },
  {
   "cell_type": "code",
   "execution_count": 8,
   "id": "487f92c5-adb0-454e-bb50-18dc42e2f248",
   "metadata": {
    "scrolled": true
   },
   "outputs": [],
   "source": [
    "# USED FOR VALIDATION ONLY: build in functions to verify results:\n",
    "to_test = True # can be changed to false to skip testing\n",
    "if(to_test):\n",
    "    in_degrees = flights_graph.inDegrees\n",
    "    out_degrees = flights_graph.outDegrees\n",
    "    assert(sorted(in_degree.collect()) == sorted(in_degrees.collect()))\n",
    "    assert(sorted(out_degree.collect()) == sorted(out_degrees.collect()))\n",
    "    triangles = flights_graph.triangleCount().select(\"id\",\"count\") # reorder columns to pass assert\n",
    "    assert(sorted(triangle_counts.collect()) == sorted(triangles.collect()))"
   ]
  },
  {
   "cell_type": "code",
   "execution_count": 9,
   "id": "dbde6677-9a22-4c57-9ca9-9fa1b95c60f6",
   "metadata": {
    "scrolled": true
   },
   "outputs": [
    {
     "name": "stdout",
     "output_type": "stream",
     "text": [
      "+---+-----+\n",
      "| id|count|\n",
      "+---+-----+\n",
      "|DCA|  673|\n",
      "|EWR| 1165|\n",
      "|ATL| 1761|\n",
      "|ORD| 1678|\n",
      "|JAN|   36|\n",
      "|IAH| 1338|\n",
      "|OKC|  165|\n",
      "|ABQ|  311|\n",
      "|IND|  612|\n",
      "|COS|   45|\n",
      "|GSO|   54|\n",
      "|ELP|   97|\n",
      "|MFE|    3|\n",
      "|OMA|  142|\n",
      "|DAL|   73|\n",
      "|GRR|   96|\n",
      "|JAX|  342|\n",
      "|CLT| 1049|\n",
      "|GSP|   54|\n",
      "|BTR|    6|\n",
      "+---+-----+\n",
      "only showing top 20 rows\n",
      "\n",
      "+---+-----+\n",
      "| id|count|\n",
      "+---+-----+\n",
      "|DCA|  673|\n",
      "|EWR| 1165|\n",
      "|ATL| 1761|\n",
      "|ORD| 1678|\n",
      "|LFT|    6|\n",
      "|BWI| 1003|\n",
      "|GSO|   54|\n",
      "|JAN|   36|\n",
      "|IAH| 1338|\n",
      "|JAX|  342|\n",
      "|OKC|  165|\n",
      "|CHS|   90|\n",
      "|ABQ|  311|\n",
      "|IND|  612|\n",
      "|COS|   45|\n",
      "|CLT| 1049|\n",
      "|CVG| 1261|\n",
      "|ELP|   97|\n",
      "|GRR|   96|\n",
      "|CMH|  392|\n",
      "+---+-----+\n",
      "only showing top 20 rows\n",
      "\n",
      "+---+--------+---------+-----------+-----+\n",
      "| id|inDegree|outDegree|totalDegree|count|\n",
      "+---+--------+---------+-----------+-----+\n",
      "|ABQ|      32|       31|         63|  311|\n",
      "|ABY|       1|        1|          2|    0|\n",
      "|ACK|       2|        1|          3|    1|\n",
      "|ACV|       5|        4|          9|    6|\n",
      "|ADK|       1|        1|          2|    0|\n",
      "|ADQ|       1|        1|          2|    0|\n",
      "|ALO|       1|        1|          2|    0|\n",
      "|AMA|       6|        6|         12|   12|\n",
      "|ANC|      28|       27|         55|  122|\n",
      "|ATL|     165|      165|        330| 1761|\n",
      "|ABE|       8|        7|         15|   27|\n",
      "|ABI|       1|        1|          2|    0|\n",
      "|ACT|       1|        1|          2|    0|\n",
      "|ACY|       2|        2|          4|    1|\n",
      "|AEX|       4|        4|          8|    6|\n",
      "|AGS|       3|        3|          6|    5|\n",
      "|AKN|       1|        1|          2|    0|\n",
      "|ALB|      18|       18|         36|  142|\n",
      "|ASE|       7|        6|         13|   17|\n",
      "|ATW|       7|        7|         14|   21|\n",
      "+---+--------+---------+-----------+-----+\n",
      "only showing top 20 rows\n",
      "\n"
     ]
    }
   ],
   "source": [
    "triangle_counts.show()\n",
    "triangles.show()\n",
    "answer = total_degrees.join(triangle_counts, \"id\", \"left\")\n",
    "answer.show()"
   ]
  },
  {
   "cell_type": "markdown",
   "id": "83d818fb-63dc-46e1-9335-46722205be65",
   "metadata": {},
   "source": [
    "# Query 2"
   ]
  },
  {
   "cell_type": "code",
   "execution_count": 10,
   "id": "65d3ae48-ccd8-4ed2-ba0d-50f7932a8dfa",
   "metadata": {},
   "outputs": [
    {
     "name": "stdout",
     "output_type": "stream",
     "text": [
      "+-----------------------+\n",
      "|total num. of triangles|\n",
      "+-----------------------+\n",
      "|                16015.0|\n",
      "+-----------------------+\n",
      "\n"
     ]
    }
   ],
   "source": [
    "count = triangle_counts.agg((F.sum(\"count\") /3).alias(\"total num. of triangles\")) # sum all and divide by 3 as each triangle is made of 3 airports counting it\n",
    "count.show()"
   ]
  },
  {
   "cell_type": "markdown",
   "id": "2b88b325-2c3e-48eb-82db-e07ca9448e92",
   "metadata": {},
   "source": [
    "# Query 3"
   ]
  },
  {
   "cell_type": "code",
   "execution_count": 8,
   "id": "ed94cf4c-5e30-4175-b367-9e1684d17213",
   "metadata": {},
   "outputs": [
    {
     "data": {
      "text/html": [
       "<table border='1'>\n",
       "<tr><th>id</th><th>pagerank</th></tr>\n",
       "<tr><td>ATL</td><td>11.335268868250692</td></tr>\n",
       "<tr><td>DFW</td><td>8.987200141119203</td></tr>\n",
       "<tr><td>ORD</td><td>8.330832084011147</td></tr>\n",
       "<tr><td>DTW</td><td>7.722346489398374</td></tr>\n",
       "<tr><td>MSP</td><td>7.59298573802231</td></tr>\n",
       "<tr><td>DEN</td><td>7.026287164606544</td></tr>\n",
       "<tr><td>SLC</td><td>6.7644947814875325</td></tr>\n",
       "<tr><td>IAH</td><td>5.6623216057564845</td></tr>\n",
       "<tr><td>LAX</td><td>5.070949815830091</td></tr>\n",
       "<tr><td>CVG</td><td>4.856791376084717</td></tr>\n",
       "<tr><td>PHX</td><td>4.73692706881559</td></tr>\n",
       "<tr><td>MEM</td><td>4.676034097666703</td></tr>\n",
       "<tr><td>SFO</td><td>4.494454206242697</td></tr>\n",
       "<tr><td>CLT</td><td>4.1776115257149185</td></tr>\n",
       "<tr><td>LAS</td><td>4.163413812771019</td></tr>\n",
       "<tr><td>MCO</td><td>4.157624015599007</td></tr>\n",
       "<tr><td>EWR</td><td>4.098413903036475</td></tr>\n",
       "<tr><td>SEA</td><td>3.5466488759102752</td></tr>\n",
       "<tr><td>JFK</td><td>3.508955992981468</td></tr>\n",
       "<tr><td>IAD</td><td>3.3018181550880086</td></tr>\n",
       "</table>\n",
       "only showing top 20 rows\n"
      ],
      "text/plain": [
       "+---+------------------+\n",
       "| id|          pagerank|\n",
       "+---+------------------+\n",
       "|ATL|11.335268868250692|\n",
       "|DFW| 8.987200141119203|\n",
       "|ORD| 8.330832084011147|\n",
       "|DTW| 7.722346489398374|\n",
       "|MSP|  7.59298573802231|\n",
       "|DEN| 7.026287164606544|\n",
       "|SLC|6.7644947814875325|\n",
       "|IAH|5.6623216057564845|\n",
       "|LAX| 5.070949815830091|\n",
       "|CVG| 4.856791376084717|\n",
       "|PHX|  4.73692706881559|\n",
       "|MEM| 4.676034097666703|\n",
       "|SFO| 4.494454206242697|\n",
       "|CLT|4.1776115257149185|\n",
       "|LAS| 4.163413812771019|\n",
       "|MCO| 4.157624015599007|\n",
       "|EWR| 4.098413903036475|\n",
       "|SEA|3.5466488759102752|\n",
       "|JFK| 3.508955992981468|\n",
       "|IAD|3.3018181550880086|\n",
       "+---+------------------+\n",
       "only showing top 20 rows"
      ]
     },
     "metadata": {},
     "output_type": "display_data"
    }
   ],
   "source": [
    "flights_pagerank = flights_graph.pageRank(resetProbability=0.15, maxIter=10)\n",
    "display(flights_pagerank.vertices.orderBy(\"pagerank\", ascending=False))\n",
    "# display(flights_pagerank.edges)"
   ]
  },
  {
   "cell_type": "code",
   "execution_count": null,
   "id": "fcde8612-f57d-4cbe-ae62-4b037d724ea5",
   "metadata": {},
   "outputs": [],
   "source": []
  }
 ],
 "metadata": {
  "kernelspec": {
   "display_name": "Python 3 (ipykernel)",
   "language": "python",
   "name": "python3"
  },
  "language_info": {
   "codemirror_mode": {
    "name": "ipython",
    "version": 3
   },
   "file_extension": ".py",
   "mimetype": "text/x-python",
   "name": "python",
   "nbconvert_exporter": "python",
   "pygments_lexer": "ipython3",
   "version": "3.11.10"
  }
 },
 "nbformat": 4,
 "nbformat_minor": 5
}
