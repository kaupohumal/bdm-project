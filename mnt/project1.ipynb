{
 "cells": [
  {
   "cell_type": "code",
   "execution_count": 2,
   "id": "25ef2470-8dcd-42e9-80b3-ac0861579b7a",
   "metadata": {},
   "outputs": [],
   "source": [
    "from pyspark.sql import SparkSession\n",
    "\n",
    "spark = (SparkSession.builder\n",
    "                    .appName('project1')\n",
    "                    .getOrCreate()\n",
    "        )"
   ]
  },
  {
   "cell_type": "code",
   "execution_count": 16,
   "id": "11c34c3d-9b70-4b59-a6ff-c9b3fdd925df",
   "metadata": {},
   "outputs": [],
   "source": [
    "from pyspark.sql.functions import *\n",
    "from pyspark.sql import Window"
   ]
  },
  {
   "cell_type": "code",
   "execution_count": 25,
   "id": "ebe3c3ee-e6c4-470c-b05c-62d5f4a9068d",
   "metadata": {},
   "outputs": [],
   "source": [
    "rides_df = (spark.read\n",
    "             .option(\"sep\", \",\") # separator\n",
    "             .option(\"header\", True) # file has header row\n",
    "             .option(\"inferSchema\", True) # spark tries to infer data types\n",
    "             .csv(\"input/Sample NYC Data.csv\") #path\n",
    "            )"
   ]
  },
  {
   "cell_type": "code",
   "execution_count": 26,
   "id": "74d5daab-f9f3-468f-bdf2-9b629bd1ef03",
   "metadata": {},
   "outputs": [],
   "source": [
    "# rides_df.printSchema()"
   ]
  },
  {
   "cell_type": "code",
   "execution_count": 27,
   "id": "d87b57c1-ed4d-4ad8-bd0e-3e1302c13a99",
   "metadata": {},
   "outputs": [],
   "source": [
    "# rides_df.show()"
   ]
  },
  {
   "cell_type": "code",
   "execution_count": 28,
   "id": "ef506214-8532-49f2-a3c4-7f1bac4ddd01",
   "metadata": {},
   "outputs": [
    {
     "name": "stdout",
     "output_type": "stream",
     "text": [
      "+---------------+----------------+------------+\n",
      "|pickup_datetime|dropoff_datetime|duration_sec|\n",
      "+---------------+----------------+------------+\n",
      "| 01-01-13 15:11|  01-01-13 15:18|         420|\n",
      "| 06-01-13 00:18|  06-01-13 00:22|         240|\n",
      "| 05-01-13 18:49|  05-01-13 18:54|         300|\n",
      "| 07-01-13 23:54|  07-01-13 23:58|         240|\n",
      "| 07-01-13 23:25|  07-01-13 23:34|         540|\n",
      "| 07-01-13 15:27|  07-01-13 15:38|         660|\n",
      "| 08-01-13 11:01|  08-01-13 11:08|         420|\n",
      "| 07-01-13 12:39|  07-01-13 13:10|        1860|\n",
      "| 07-01-13 18:15|  07-01-13 18:20|         300|\n",
      "| 07-01-13 15:33|  07-01-13 15:49|         960|\n",
      "| 08-01-13 13:11|  08-01-13 13:19|         480|\n",
      "| 08-01-13 09:50|  08-01-13 10:02|         720|\n",
      "| 10-01-13 12:07|  10-01-13 12:17|         600|\n",
      "| 07-01-13 07:35|  07-01-13 07:46|         660|\n",
      "| 10-01-13 15:42|  10-01-13 16:04|        1320|\n",
      "| 10-01-13 14:27|  10-01-13 14:45|        1080|\n",
      "| 07-01-13 22:09|  07-01-13 22:19|         600|\n",
      "| 07-01-13 17:18|  07-01-13 17:20|         120|\n",
      "| 07-01-13 06:08|  07-01-13 06:13|         300|\n",
      "| 07-01-13 22:25|  07-01-13 22:36|         660|\n",
      "+---------------+----------------+------------+\n",
      "only showing top 20 rows\n",
      "\n"
     ]
    }
   ],
   "source": [
    "DATETIME_FORMAT = \"dd-MM-yy HH:mm\"\n",
    "\n",
    "rides_df = rides_df.withColumn(\"pickup_unix\", unix_timestamp(\"pickup_datetime\", DATETIME_FORMAT)) \\\n",
    "                   .withColumn(\"dropoff_unix\", unix_timestamp(\"dropoff_datetime\", DATETIME_FORMAT))\n",
    "\n",
    "rides_df = rides_df.withColumn(\"duration_sec\", rides_df[\"dropoff_unix\"] - rides_df[\"pickup_unix\"])\n",
    "\n",
    "rides_df.select(\"pickup_datetime\", \"dropoff_datetime\", \"duration_sec\").show()"
   ]
  },
  {
   "cell_type": "code",
   "execution_count": 29,
   "id": "3f281be8-cc99-476f-830c-fd81b8689779",
   "metadata": {},
   "outputs": [],
   "source": [
    "DURATION_THRESHOLD = 14400 # 4 hours in seconds\n",
    "\n",
    "rides_df = rides_df.filter((col(\"duration_sec\") >= 0) & (col(\"duration_sec\") <= DURATION_THRESHOLD))"
   ]
  },
  {
   "cell_type": "code",
   "execution_count": 31,
   "id": "3e5e7533-a3c7-4236-9dea-20c75f230425",
   "metadata": {},
   "outputs": [
    {
     "name": "stdout",
     "output_type": "stream",
     "text": [
      "+--------------------+-------------------+\n",
      "|        hack_license|total_idle_time_sec|\n",
      "+--------------------+-------------------+\n",
      "|001C8AAB90AEE49F3...|              12960|\n",
      "|0025133AD810DBE80...|               2400|\n",
      "|002C093A2CB9FD40C...|              15300|\n",
      "|00447A6197DBB329F...|              13440|\n",
      "|0046F1E91AA13DEDE...|               9960|\n",
      "|00567B1CBFD51DDFA...|              10080|\n",
      "|006114F940CB87B3A...|              24000|\n",
      "|006313464EC98A24B...|              31500|\n",
      "|006B6BD90C7B5C985...|               6180|\n",
      "|00711D0CC3FB5BC90...|               6000|\n",
      "|007357E7FFE212879...|              18660|\n",
      "|007439EEDB510EF82...|               3240|\n",
      "|007E686365B4421FB...|               3840|\n",
      "|00927C48BA4C1B2B1...|              14460|\n",
      "|00A2DC1380E44036A...|              11100|\n",
      "|00AE05F56D451E89E...|              22200|\n",
      "|00B442110FA2D04A1...|              10680|\n",
      "|00B7691D86D96AEBD...|              12120|\n",
      "|00BB5ECED533BF463...|              10380|\n",
      "|00BF52E4A8E6DBB01...|               9720|\n",
      "+--------------------+-------------------+\n",
      "only showing top 20 rows\n",
      "\n"
     ]
    }
   ],
   "source": [
    "DRIVER_SESSION_LENGTH = 14400 # 4 hours in seconds\n",
    "\n",
    "rides_df = rides_df.orderBy(\"hack_license\", \"pickup_datetime\")\n",
    "\n",
    "window_spec = Window.partitionBy(\"hack_license\").orderBy(\"pickup_unix\")\n",
    "\n",
    "rides_df = rides_df.withColumn(\"prev_dropoff_unix\", lag(\"dropoff_unix\").over(window_spec)) \\\n",
    "                   .withColumn(\"idle_time_sec\", \n",
    "                               when((col(\"pickup_unix\") - col(\"prev_dropoff_unix\")) < DRIVER_SESSION_LENGTH,\n",
    "                                    col(\"pickup_unix\") - col(\"prev_dropoff_unix\"))\n",
    "                               .otherwise(0))\n",
    "\n",
    "idle_time_df = rides_df.filter(col(\"idle_time_sec\") > 0) \\\n",
    "                       .groupBy(\"hack_license\") \\\n",
    "                       .sum(\"idle_time_sec\") \\\n",
    "                       .withColumnRenamed(\"sum(idle_time_sec)\", \"total_idle_time_sec\")\n",
    "\n",
    "idle_time_df.show()"
   ]
  }
 ],
 "metadata": {
  "kernelspec": {
   "display_name": "Python 3 (ipykernel)",
   "language": "python",
   "name": "python3"
  },
  "language_info": {
   "codemirror_mode": {
    "name": "ipython",
    "version": 3
   },
   "file_extension": ".py",
   "mimetype": "text/x-python",
   "name": "python",
   "nbconvert_exporter": "python",
   "pygments_lexer": "ipython3",
   "version": "3.11.10"
  }
 },
 "nbformat": 4,
 "nbformat_minor": 5
}
