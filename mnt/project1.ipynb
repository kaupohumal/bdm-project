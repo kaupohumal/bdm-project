{
 "cells": [
  {
   "cell_type": "code",
   "execution_count": 1,
   "id": "25ef2470-8dcd-42e9-80b3-ac0861579b7a",
   "metadata": {},
   "outputs": [],
   "source": [
    "from pyspark.sql import SparkSession\n",
    "\n",
    "spark = (SparkSession.builder\n",
    "                    .appName('project1')\n",
    "                    .getOrCreate()\n",
    "        )"
   ]
  },
  {
   "cell_type": "code",
   "execution_count": 2,
   "id": "11c34c3d-9b70-4b59-a6ff-c9b3fdd925df",
   "metadata": {},
   "outputs": [],
   "source": [
    "from pyspark.sql.functions import *\n",
    "from pyspark.sql import Window\n",
    "from shapely.geometry import Point, Polygon\n",
    "from shapely import from_wkt\n",
    "from pyspark.sql.types import *"
   ]
  },
  {
   "cell_type": "code",
   "execution_count": 3,
   "id": "ebe3c3ee-e6c4-470c-b05c-62d5f4a9068d",
   "metadata": {},
   "outputs": [],
   "source": [
    "rides_df = (spark.read\n",
    "             .option(\"sep\", \",\") # separator\n",
    "             .option(\"header\", True) # file has header row\n",
    "             .option(\"inferSchema\", True) # spark tries to infer data types\n",
    "             .csv(\"input/Sample NYC Data.csv\") #path\n",
    "            )"
   ]
  },
  {
   "cell_type": "code",
   "execution_count": 4,
   "id": "74d5daab-f9f3-468f-bdf2-9b629bd1ef03",
   "metadata": {},
   "outputs": [],
   "source": [
    "# rides_df.printSchema()"
   ]
  },
  {
   "cell_type": "code",
   "execution_count": 5,
   "id": "d87b57c1-ed4d-4ad8-bd0e-3e1302c13a99",
   "metadata": {},
   "outputs": [],
   "source": [
    "# rides_df.show()"
   ]
  },
  {
   "cell_type": "code",
   "execution_count": 6,
   "id": "ef506214-8532-49f2-a3c4-7f1bac4ddd01",
   "metadata": {},
   "outputs": [
    {
     "name": "stdout",
     "output_type": "stream",
     "text": [
      "+---------------+----------------+------------+\n",
      "|pickup_datetime|dropoff_datetime|duration_sec|\n",
      "+---------------+----------------+------------+\n",
      "| 01-01-13 15:11|  01-01-13 15:18|         420|\n",
      "| 06-01-13 00:18|  06-01-13 00:22|         240|\n",
      "| 05-01-13 18:49|  05-01-13 18:54|         300|\n",
      "| 07-01-13 23:54|  07-01-13 23:58|         240|\n",
      "| 07-01-13 23:25|  07-01-13 23:34|         540|\n",
      "| 07-01-13 15:27|  07-01-13 15:38|         660|\n",
      "| 08-01-13 11:01|  08-01-13 11:08|         420|\n",
      "| 07-01-13 12:39|  07-01-13 13:10|        1860|\n",
      "| 07-01-13 18:15|  07-01-13 18:20|         300|\n",
      "| 07-01-13 15:33|  07-01-13 15:49|         960|\n",
      "| 08-01-13 13:11|  08-01-13 13:19|         480|\n",
      "| 08-01-13 09:50|  08-01-13 10:02|         720|\n",
      "| 10-01-13 12:07|  10-01-13 12:17|         600|\n",
      "| 07-01-13 07:35|  07-01-13 07:46|         660|\n",
      "| 10-01-13 15:42|  10-01-13 16:04|        1320|\n",
      "| 10-01-13 14:27|  10-01-13 14:45|        1080|\n",
      "| 07-01-13 22:09|  07-01-13 22:19|         600|\n",
      "| 07-01-13 17:18|  07-01-13 17:20|         120|\n",
      "| 07-01-13 06:08|  07-01-13 06:13|         300|\n",
      "| 07-01-13 22:25|  07-01-13 22:36|         660|\n",
      "+---------------+----------------+------------+\n",
      "only showing top 20 rows\n",
      "\n"
     ]
    }
   ],
   "source": [
    "DATETIME_FORMAT = \"dd-MM-yy HH:mm\"\n",
    "\n",
    "rides_df = rides_df.withColumn(\"pickup_unix\", unix_timestamp(\"pickup_datetime\", DATETIME_FORMAT)) \\\n",
    "                   .withColumn(\"dropoff_unix\", unix_timestamp(\"dropoff_datetime\", DATETIME_FORMAT))\n",
    "\n",
    "rides_df = rides_df.withColumn(\"duration_sec\", rides_df[\"dropoff_unix\"] - rides_df[\"pickup_unix\"])\n",
    "\n",
    "rides_df.select(\"pickup_datetime\", \"dropoff_datetime\", \"duration_sec\").show()"
   ]
  },
  {
   "cell_type": "code",
   "execution_count": 7,
   "id": "3f281be8-cc99-476f-830c-fd81b8689779",
   "metadata": {},
   "outputs": [],
   "source": [
    "DURATION_THRESHOLD = 14400 # 4 hours in seconds\n",
    "\n",
    "rides_df = rides_df.filter((col(\"duration_sec\") >= 0) & (col(\"duration_sec\") <= DURATION_THRESHOLD))"
   ]
  },
  {
   "cell_type": "code",
   "execution_count": 8,
   "id": "3e5e7533-a3c7-4236-9dea-20c75f230425",
   "metadata": {},
   "outputs": [
    {
     "name": "stdout",
     "output_type": "stream",
     "text": [
      "+--------------------+-------------------+\n",
      "|        hack_license|total_idle_time_sec|\n",
      "+--------------------+-------------------+\n",
      "|001C8AAB90AEE49F3...|              12960|\n",
      "|0025133AD810DBE80...|               2400|\n",
      "|002C093A2CB9FD40C...|              15300|\n",
      "|00447A6197DBB329F...|              13440|\n",
      "|0046F1E91AA13DEDE...|               9960|\n",
      "|00567B1CBFD51DDFA...|              10080|\n",
      "|006114F940CB87B3A...|              24000|\n",
      "|006313464EC98A24B...|              31500|\n",
      "|006B6BD90C7B5C985...|               6180|\n",
      "|00711D0CC3FB5BC90...|               6000|\n",
      "|007357E7FFE212879...|              18660|\n",
      "|007439EEDB510EF82...|               3240|\n",
      "|007E686365B4421FB...|               3840|\n",
      "|00927C48BA4C1B2B1...|              14460|\n",
      "|00A2DC1380E44036A...|              11100|\n",
      "|00AE05F56D451E89E...|              22200|\n",
      "|00B442110FA2D04A1...|              10680|\n",
      "|00B7691D86D96AEBD...|              12120|\n",
      "|00BB5ECED533BF463...|              10380|\n",
      "|00BF52E4A8E6DBB01...|               9720|\n",
      "+--------------------+-------------------+\n",
      "only showing top 20 rows\n",
      "\n"
     ]
    }
   ],
   "source": [
    "DRIVER_SESSION_LENGTH = 14400 # 4 hours in seconds\n",
    "\n",
    "rides_df = rides_df.orderBy(\"hack_license\", \"pickup_datetime\")\n",
    "\n",
    "window_spec = Window.partitionBy(\"hack_license\").orderBy(\"pickup_unix\")\n",
    "\n",
    "rides_df = rides_df.withColumn(\"prev_dropoff_unix\", lag(\"dropoff_unix\").over(window_spec)) \\\n",
    "                   .withColumn(\"idle_time_sec\", \n",
    "                               when((col(\"pickup_unix\") - col(\"prev_dropoff_unix\")) < DRIVER_SESSION_LENGTH,\n",
    "                                    col(\"pickup_unix\") - col(\"prev_dropoff_unix\"))\n",
    "                               .otherwise(0))\n",
    "\n",
    "idle_time_df = rides_df.filter(col(\"idle_time_sec\") > 0) \\\n",
    "                       .groupBy(\"hack_license\") \\\n",
    "                       .sum(\"idle_time_sec\") \\\n",
    "                       .withColumnRenamed(\"sum(idle_time_sec)\", \"total_idle_time_sec\")\n",
    "\n",
    "idle_time_df.show()"
   ]
  },
  {
   "cell_type": "code",
   "execution_count": null,
   "id": "0ebba5e9",
   "metadata": {},
   "outputs": [],
   "source": [
    "geo_df = (spark.read.option(\"multiline\", \"true\").json(\"input/nyc-boroughs.geojson\")).select(explode(\"features\").alias(\"borough\")) \\\n",
    "        .select(col(\"borough.geometry\").alias(\"geometry\"),\n",
    "                col(\"borough.properties.borough\").alias(\"borough_name\"),\n",
    "                col(\"borough.properties.boroughCode\").alias(\"borough_code\"))"
   ]
  },
  {
   "cell_type": "code",
   "execution_count": 10,
   "id": "ec3fa1ea",
   "metadata": {},
   "outputs": [],
   "source": [
    "# wkt serializes the geometry so we can store it as a string\n",
    "geo_to_poly_udf = udf(lambda geo: Polygon(geo[\"coordinates\"][0]).wkt, returnType=StringType())\n",
    "geo_to_area_udf = udf(lambda geo: Polygon(geo[\"coordinates\"][0]).area, returnType=DoubleType())\n",
    "coords_to_point_udf = udf(lambda coords: Point(coords[0], coords[1]).wkt, returnType=StringType()) # For the main dataframe\n",
    "is_point_in_polygon_udf = udf(lambda point_wkt, polygon_wkt: from_wkt(polygon_wkt).contains(from_wkt(point_wkt)), BooleanType())"
   ]
  },
  {
   "cell_type": "code",
   "execution_count": 11,
   "id": "84ed1b14",
   "metadata": {},
   "outputs": [],
   "source": [
    "geo_df = geo_df.withColumn(\"poly\", geo_to_poly_udf(col(\"geometry\"))). \\\n",
    "        withColumn(\"area\", geo_to_area_udf(col(\"geometry\"))). \\\n",
    "        drop(\"geometry\"). \\\n",
    "        orderBy(\"borough_code\", desc(\"area\"))"
   ]
  },
  {
   "cell_type": "code",
   "execution_count": 12,
   "id": "ed95a2ee",
   "metadata": {},
   "outputs": [
    {
     "name": "stdout",
     "output_type": "stream",
     "text": [
      "root\n",
      " |-- borough_name: string (nullable = true)\n",
      " |-- borough_code: long (nullable = true)\n",
      " |-- poly: string (nullable = true)\n",
      " |-- area: double (nullable = true)\n",
      "\n"
     ]
    }
   ],
   "source": [
    "geo_df.printSchema()"
   ]
  },
  {
   "cell_type": "code",
   "execution_count": 13,
   "id": "1377e030",
   "metadata": {},
   "outputs": [
    {
     "name": "stdout",
     "output_type": "stream",
     "text": [
      "+------------+------------+--------------------+--------------------+\n",
      "|borough_name|borough_code|                poly|                area|\n",
      "+------------+------------+--------------------+--------------------+\n",
      "|   Manhattan|           1|POLYGON ((-73.926...|0.005859077996035753|\n",
      "|   Manhattan|           1|POLYGON ((-73.921...|2.327165585676201...|\n",
      "|   Manhattan|           1|POLYGON ((-74.016...|  7.6037752599342E-5|\n",
      "|   Manhattan|           1|POLYGON ((-73.941...| 6.23157479510608E-5|\n",
      "|   Manhattan|           1|POLYGON ((-73.906...|3.265859127204495...|\n",
      "|   Manhattan|           1|POLYGON ((-74.039...|1.182888313767709...|\n",
      "|   Manhattan|           1|POLYGON ((-74.043...|6.143638903459381E-6|\n",
      "|   Manhattan|           1|POLYGON ((-73.995...|3.383127367444441...|\n",
      "|   Manhattan|           1|POLYGON ((-74.001...|2.858823502476497E-6|\n",
      "|   Manhattan|           1|POLYGON ((-74.000...|2.393654308790746E-6|\n",
      "|   Manhattan|           1|POLYGON ((-74.001...|2.334554077223592...|\n",
      "|   Manhattan|           1|POLYGON ((-73.998...|2.262734097676114...|\n",
      "|   Manhattan|           1|POLYGON ((-74.003...|2.246529747538856...|\n",
      "|   Manhattan|           1|POLYGON ((-74.002...| 2.24116737819868E-6|\n",
      "|   Manhattan|           1|POLYGON ((-74.005...|2.209445592708930...|\n",
      "|   Manhattan|           1|POLYGON ((-73.997...|2.048636296050274...|\n",
      "|   Manhattan|           1|POLYGON ((-74.010...|1.330049477425571...|\n",
      "|   Manhattan|           1|POLYGON ((-73.938...|1.111177055165405...|\n",
      "|   Manhattan|           1|POLYGON ((-73.962...|2.354033827718773E-7|\n",
      "|   Manhattan|           1|POLYGON ((-73.963...|2.092902292672452...|\n",
      "+------------+------------+--------------------+--------------------+\n",
      "only showing top 20 rows\n",
      "\n"
     ]
    }
   ],
   "source": [
    "geo_df.show()"
   ]
  },
  {
   "cell_type": "code",
   "execution_count": 14,
   "id": "7c6291a9",
   "metadata": {},
   "outputs": [],
   "source": [
    "# Convert pickup and dropoff coordinates to points\n",
    "rides_df = rides_df.withColumn(\"pickup_point\", coords_to_point_udf(array(\"pickup_longitude\", \"pickup_latitude\"))) \\\n",
    "        .withColumn(\"dropoff_point\", coords_to_point_udf(array(\"dropoff_longitude\", \"dropoff_latitude\"))) \\\n",
    "        .drop(\"pickup_longitude\", \"pickup_latitude\", \"dropoff_longitude\", \"dropoff_latitude\")"
   ]
  },
  {
   "cell_type": "code",
   "execution_count": null,
   "id": "d48a4917",
   "metadata": {},
   "outputs": [],
   "source": [
    "# Query 3. The number of trips that started and ended within the same borough\n",
    "geo_broadcast = broadcast(geo_df)\n",
    "\n",
    "# Find pickup borough for each ride\n",
    "pickup_borough = rides_df \\\n",
    "    .crossJoin(geo_broadcast) \\\n",
    "    .filter(is_point_in_polygon_udf(col(\"pickup_point\"), col(\"poly\"))) \\\n",
    "    .select(\n",
    "        rides_df[\"medallion\"], \n",
    "        rides_df[\"hack_license\"], \n",
    "        rides_df[\"pickup_datetime\"],\n",
    "        rides_df[\"dropoff_point\"],\n",
    "        col(\"borough_name\").alias(\"pickup_borough\"),\n",
    "        col(\"borough_code\").alias(\"pickup_borough_code\")\n",
    "    )\n",
    "\n",
    "# Find dropoff borough for each ride\n",
    "dropoff_borough = rides_df \\\n",
    "    .crossJoin(geo_broadcast) \\\n",
    "    .filter(is_point_in_polygon_udf(col(\"dropoff_point\"), col(\"poly\"))) \\\n",
    "    .select(\n",
    "        rides_df[\"medallion\"], \n",
    "        rides_df[\"hack_license\"], \n",
    "        rides_df[\"pickup_datetime\"],\n",
    "        col(\"borough_name\").alias(\"dropoff_borough\"),\n",
    "        col(\"borough_code\").alias(\"dropoff_borough_code\")\n",
    "    )\n",
    "\n",
    "# Join the two DFs to find same-borough trips\n",
    "same_borough_trips = pickup_borough \\\n",
    "    .join(\n",
    "        dropoff_borough, \n",
    "        [\"medallion\", \"hack_license\", \"pickup_datetime\"],\n",
    "        \"inner\"\n",
    "    ) \\\n",
    "    .filter(col(\"pickup_borough_code\") == col(\"dropoff_borough_code\"))\n",
    "\n",
    "# Count trips by borough\n",
    "borough_counts = same_borough_trips \\\n",
    "    .groupBy(\"pickup_borough\", \"pickup_borough_code\") \\\n",
    "    .count() \\\n",
    "    .orderBy(\"pickup_borough_code\")\n",
    "\n",
    "# Get total\n",
    "total_same_borough = same_borough_trips.count()"
   ]
  },
  {
   "cell_type": "code",
   "execution_count": 22,
   "id": "9f8715c9",
   "metadata": {},
   "outputs": [
    {
     "data": {
      "text/plain": [
       "86074"
      ]
     },
     "execution_count": 22,
     "metadata": {},
     "output_type": "execute_result"
    }
   ],
   "source": [
    "total_same_borough"
   ]
  },
  {
   "cell_type": "code",
   "execution_count": 23,
   "id": "ee93f949",
   "metadata": {},
   "outputs": [
    {
     "data": {
      "text/plain": [
       "13925"
      ]
     },
     "execution_count": 23,
     "metadata": {},
     "output_type": "execute_result"
    }
   ],
   "source": [
    "# Query 4. The number of trips that started in one borough and ended in another one\n",
    "\n",
    "rides_df.count() - total_same_borough"
   ]
  }
 ],
 "metadata": {
  "kernelspec": {
   "display_name": "Python 3 (ipykernel)",
   "language": "python",
   "name": "python3"
  },
  "language_info": {
   "codemirror_mode": {
    "name": "ipython",
    "version": 3
   },
   "file_extension": ".py",
   "mimetype": "text/x-python",
   "name": "python",
   "nbconvert_exporter": "python",
   "pygments_lexer": "ipython3",
   "version": "3.11.10"
  }
 },
 "nbformat": 4,
 "nbformat_minor": 5
}
