{
 "cells": [
  {
   "cell_type": "markdown",
   "id": "20d967e2-20dc-4cef-961a-bef47f2a9267",
   "metadata": {},
   "source": [
    "# Project 1 Report\n",
    "\n",
    "#### Joosep Orasmäe, Kaupo Humal, Tanel Tiisler, Kalju Jake Nekvasil"
   ]
  },
  {
   "cell_type": "markdown",
   "id": "7771bc3d-f45b-40d5-a88e-649837a30fae",
   "metadata": {},
   "source": [
    "## Initialization\n",
    "\n",
    "This section is for importing libraries and visualizing the dataset. "
   ]
  },
  {
   "cell_type": "code",
   "execution_count": 1,
   "id": "25ef2470-8dcd-42e9-80b3-ac0861579b7a",
   "metadata": {},
   "outputs": [],
   "source": [
    "from pyspark.sql import SparkSession\n",
    "\n",
    "spark = (SparkSession.builder\n",
    "                    .appName('project1')\n",
    "                    .getOrCreate()\n",
    "        )"
   ]
  },
  {
   "cell_type": "code",
   "execution_count": 2,
   "id": "11c34c3d-9b70-4b59-a6ff-c9b3fdd925df",
   "metadata": {},
   "outputs": [],
   "source": [
    "from pyspark.sql.functions import *\n",
    "from pyspark.sql import Window\n",
    "from shapely.geometry import Point, Polygon\n",
    "from shapely import from_wkt\n",
    "from pyspark.sql.types import *"
   ]
  },
  {
   "cell_type": "code",
   "execution_count": 3,
   "id": "ebe3c3ee-e6c4-470c-b05c-62d5f4a9068d",
   "metadata": {},
   "outputs": [],
   "source": [
    "#original, unmodified dataset\n",
    "raw_rides_df = (spark.read\n",
    "             .option(\"sep\", \",\") # separator\n",
    "             .option(\"header\", True) # file has header row\n",
    "             .option(\"inferSchema\", True) # spark tries to infer data types\n",
    "             .csv(\"input/Sample NYC Data.csv\") #path\n",
    "            )"
   ]
  },
  {
   "cell_type": "code",
   "execution_count": 4,
   "id": "74d5daab-f9f3-468f-bdf2-9b629bd1ef03",
   "metadata": {},
   "outputs": [
    {
     "name": "stdout",
     "output_type": "stream",
     "text": [
      "root\n",
      " |-- medallion: string (nullable = true)\n",
      " |-- hack_license: string (nullable = true)\n",
      " |-- vendor_id: string (nullable = true)\n",
      " |-- rate_code: integer (nullable = true)\n",
      " |-- store_and_fwd_flag: string (nullable = true)\n",
      " |-- pickup_datetime: string (nullable = true)\n",
      " |-- dropoff_datetime: string (nullable = true)\n",
      " |-- passenger_count: integer (nullable = true)\n",
      " |-- pickup_longitude: double (nullable = true)\n",
      " |-- pickup_latitude: double (nullable = true)\n",
      " |-- dropoff_longitude: double (nullable = true)\n",
      " |-- dropoff_latitude: double (nullable = true)\n",
      "\n"
     ]
    }
   ],
   "source": [
    "raw_rides_df.printSchema()"
   ]
  },
  {
   "cell_type": "code",
   "execution_count": 5,
   "id": "d87b57c1-ed4d-4ad8-bd0e-3e1302c13a99",
   "metadata": {},
   "outputs": [
    {
     "name": "stdout",
     "output_type": "stream",
     "text": [
      "+--------------------+--------------------+---------+---------+------------------+---------------+----------------+---------------+----------------+---------------+-----------------+----------------+\n",
      "|           medallion|        hack_license|vendor_id|rate_code|store_and_fwd_flag|pickup_datetime|dropoff_datetime|passenger_count|pickup_longitude|pickup_latitude|dropoff_longitude|dropoff_latitude|\n",
      "+--------------------+--------------------+---------+---------+------------------+---------------+----------------+---------------+----------------+---------------+-----------------+----------------+\n",
      "|89D227B655E5C82AE...|BA96DE419E711691B...|      CMT|        1|                 N| 01-01-13 15:11|  01-01-13 15:18|              4|      -73.978165|      40.757977|       -73.989838|       40.751171|\n",
      "|0BD7C8F5BA12B88E0...|9FD8F69F0804BDB55...|      CMT|        1|                 N| 06-01-13 00:18|  06-01-13 00:22|              1|      -74.006683|      40.731781|       -73.994499|        40.75066|\n",
      "|0BD7C8F5BA12B88E0...|9FD8F69F0804BDB55...|      CMT|        1|                 N| 05-01-13 18:49|  05-01-13 18:54|              1|      -74.004707|       40.73777|       -74.009834|       40.726002|\n",
      "|DFD2202EE08F7A8DC...|51EE87E3205C985EF...|      CMT|        1|                 N| 07-01-13 23:54|  07-01-13 23:58|              2|      -73.974602|      40.759945|       -73.984734|       40.759388|\n",
      "|DFD2202EE08F7A8DC...|51EE87E3205C985EF...|      CMT|        1|                 N| 07-01-13 23:25|  07-01-13 23:34|              1|       -73.97625|      40.748528|       -74.002586|       40.747868|\n",
      "|20D9ECB2CA0767CF7...|598CCE5B9C1918568...|      CMT|        1|                 N| 07-01-13 15:27|  07-01-13 15:38|              1|      -73.966743|      40.764252|       -73.983322|       40.743763|\n",
      "|496644932DF393260...|513189AD756FF14FE...|      CMT|        1|                 N| 08-01-13 11:01|  08-01-13 11:08|              1|      -73.995804|      40.743977|       -74.007416|       40.744343|\n",
      "|0B57B9633A2FECD3D...|CCD4367B417ED6634...|      CMT|        1|                 N| 07-01-13 12:39|  07-01-13 13:10|              3|      -73.989937|      40.756775|        -73.86525|        40.77063|\n",
      "|2C0E91FF20A856C89...|1DA2F6543A62B8ED9...|      CMT|        1|                 N| 07-01-13 18:15|  07-01-13 18:20|              1|      -73.980072|      40.743137|       -73.982712|       40.735336|\n",
      "|2D4B95E2FA7B2E851...|CD2F522EEE1FF5F5A...|      CMT|        1|                 N| 07-01-13 15:33|  07-01-13 15:49|              2|      -73.977936|      40.786983|       -73.952919|        40.80637|\n",
      "|E12F6AF991172EAC3...|06918214E951FA000...|      CMT|        1|                 N| 08-01-13 13:11|  08-01-13 13:19|              1|      -73.982452|      40.773167|       -73.964134|       40.773815|\n",
      "|E12F6AF991172EAC3...|06918214E951FA000...|      CMT|        1|                 N| 08-01-13 09:50|  08-01-13 10:02|              1|       -73.99556|      40.749294|       -73.988686|       40.759052|\n",
      "|78FFD9CD0CDA541F3...|E949C583ECF62C8F0...|      CMT|        1|                 N| 10-01-13 12:07|  10-01-13 12:17|              1|      -73.971497|      40.791321|       -73.964478|       40.775921|\n",
      "|237F49C3ECC11F502...|93C363DDF8ED9385D...|      CMT|        1|                 N| 07-01-13 07:35|  07-01-13 07:46|              1|       -73.98851|      40.774307|       -73.981094|       40.755325|\n",
      "|3349F919AA8AE5DC9...|7CE849FEF67514F08...|      CMT|        1|                 N| 10-01-13 15:42|  10-01-13 16:04|              1|      -73.994911|      40.723221|       -73.971558|       40.761612|\n",
      "|3349F919AA8AE5DC9...|7CE849FEF67514F08...|      CMT|        1|                 N| 10-01-13 14:27|  10-01-13 14:45|              1|      -74.010391|      40.708702|       -73.987846|       40.756104|\n",
      "|4C005EEBAA7BF26B8...|351BE7D984BE17DB2...|      CMT|        1|                 N| 07-01-13 22:09|  07-01-13 22:19|              1|      -73.973732|      40.756287|       -73.998413|       40.756832|\n",
      "|7D99C30FCE69B1A9D...|460C3F57DD9CB2265...|      CMT|        1|                 N| 07-01-13 17:18|  07-01-13 17:20|              1|      -73.968925|      40.767704|        -73.96199|       40.776566|\n",
      "|E6FBF80668FE0611A...|36773E80775F26CD1...|      CMT|        1|                 N| 07-01-13 06:08|  07-01-13 06:13|              1|       -73.96212|      40.769737|       -73.979561|        40.75539|\n",
      "|0C5296F3C8B16E702...|D2363240A9295EF57...|      CMT|        1|                 N| 07-01-13 22:25|  07-01-13 22:36|              1|      -73.989708|      40.756714|       -73.977615|       40.787575|\n",
      "+--------------------+--------------------+---------+---------+------------------+---------------+----------------+---------------+----------------+---------------+-----------------+----------------+\n",
      "only showing top 20 rows\n",
      "\n"
     ]
    }
   ],
   "source": [
    "raw_rides_df.show()"
   ]
  },
  {
   "cell_type": "markdown",
   "id": "ae04c52c-8782-4f3c-b8c6-604dff4dc399",
   "metadata": {},
   "source": [
    "## Preprocessing\n",
    "\n",
    "- Remove irrelevant columns\n",
    "- Remove illogical values\n",
    "- Enrich data"
   ]
  },
  {
   "cell_type": "code",
   "execution_count": 6,
   "id": "ef506214-8532-49f2-a3c4-7f1bac4ddd01",
   "metadata": {},
   "outputs": [],
   "source": [
    "# Use the unix_timestamp function to convert the date time of the respective times into milliseconds\n",
    "DATETIME_FORMAT = \"dd-MM-yy HH:mm\"\n",
    "\n",
    "rides_df = raw_rides_df.select( #fields of interest, according to HW description\n",
    "    \"medallion\",\n",
    "    \"hack_license\",\n",
    "    \"pickup_datetime\",\n",
    "    \"dropoff_datetime\",\n",
    "    \"pickup_latitude\",\n",
    "    \"pickup_longitude\",\n",
    "    \"dropoff_latitude\",\n",
    "    \"dropoff_longitude\"\n",
    ")\n",
    "\n",
    "rides_df = rides_df.withColumn(\"pickup_unix\", unix_timestamp(\"pickup_datetime\", DATETIME_FORMAT)) \\\n",
    "                   .withColumn(\"dropoff_unix\", unix_timestamp(\"dropoff_datetime\", DATETIME_FORMAT))\n",
    "\n",
    "# Subtract the times to find the difference (in seconds)\n",
    "rides_df = rides_df.withColumn(\"duration_sec\", rides_df[\"dropoff_unix\"] - rides_df[\"pickup_unix\"])\n",
    "\n",
    "rides_df = rides_df.select( #remove already converted fields \n",
    "    \"medallion\",\n",
    "    \"hack_license\",\n",
    "    \"pickup_unix\",\n",
    "    \"dropoff_unix\",\n",
    "    \"pickup_latitude\",\n",
    "    \"pickup_longitude\",\n",
    "    \"dropoff_latitude\",\n",
    "    \"dropoff_longitude\",\n",
    "    \"duration_sec\"\n",
    ")"
   ]
  },
  {
   "cell_type": "code",
   "execution_count": 7,
   "id": "4c0ff05d-ab57-4165-af90-79dc7027321d",
   "metadata": {},
   "outputs": [],
   "source": [
    "#removing impossible data rows, where client was picked up, before last client was dropped off.\n",
    "\n",
    "#rides_df = rides_df.orderBy(\"hack_license\", \"pickup_datetime\") #unneccesary, as windowspec handles it well:)\n",
    "windowSpec = Window.partitionBy(\"medallion\").orderBy(\"pickup_unix\")\n",
    "test_df = rides_df.withColumn(\"prev_dropoff\", lag(\"dropoff_unix\").over(windowSpec))\n",
    "overlaps = test_df.filter(col(\"pickup_unix\") < col(\"prev_dropoff\"))\n",
    "#print(overlaps.count()) #15 concrete overlaps or 1175 including equals\n",
    "# partionby hack_license gives exact same overlaps.\n",
    "rides_df = test_df.filter(col(\"pickup_unix\") >= col(\"prev_dropoff\"))\n",
    "\n",
    "#removing most likely wrong results, where single drive took over 4 hours.\n",
    "DURATION_THRESHOLD = 14400 # 4 hours in seconds\n",
    "rides_df = rides_df.filter((col(\"duration_sec\") >= 0) & (col(\"duration_sec\") <= DURATION_THRESHOLD))\n"
   ]
  },
  {
   "cell_type": "code",
   "execution_count": 8,
   "id": "7cf9a365-0388-4eae-9443-c136f7f37fa2",
   "metadata": {},
   "outputs": [
    {
     "name": "stdout",
     "output_type": "stream",
     "text": [
      "+------------+------------+--------------------+--------------------+\n",
      "|borough_name|borough_code|                poly|                area|\n",
      "+------------+------------+--------------------+--------------------+\n",
      "|   Manhattan|           1|POLYGON ((-73.926...|0.005859077996035753|\n",
      "|   Manhattan|           1|POLYGON ((-73.921...|2.327165585676201...|\n",
      "|   Manhattan|           1|POLYGON ((-74.016...|  7.6037752599342E-5|\n",
      "|   Manhattan|           1|POLYGON ((-73.941...| 6.23157479510608E-5|\n",
      "|   Manhattan|           1|POLYGON ((-73.906...|3.265859127204495...|\n",
      "|   Manhattan|           1|POLYGON ((-74.039...|1.182888313767709...|\n",
      "|   Manhattan|           1|POLYGON ((-74.043...|6.143638903459381E-6|\n",
      "|   Manhattan|           1|POLYGON ((-73.995...|3.383127367444441...|\n",
      "|   Manhattan|           1|POLYGON ((-74.001...|2.858823502476497E-6|\n",
      "|   Manhattan|           1|POLYGON ((-74.000...|2.393654308790746E-6|\n",
      "|   Manhattan|           1|POLYGON ((-74.001...|2.334554077223592...|\n",
      "|   Manhattan|           1|POLYGON ((-73.998...|2.262734097676114...|\n",
      "|   Manhattan|           1|POLYGON ((-74.003...|2.246529747538856...|\n",
      "|   Manhattan|           1|POLYGON ((-74.002...| 2.24116737819868E-6|\n",
      "|   Manhattan|           1|POLYGON ((-74.005...|2.209445592708930...|\n",
      "|   Manhattan|           1|POLYGON ((-73.997...|2.048636296050274...|\n",
      "|   Manhattan|           1|POLYGON ((-74.010...|1.330049477425571...|\n",
      "|   Manhattan|           1|POLYGON ((-73.938...|1.111177055165405...|\n",
      "|   Manhattan|           1|POLYGON ((-73.962...|2.354033827718773E-7|\n",
      "|   Manhattan|           1|POLYGON ((-73.963...|2.092902292672452...|\n",
      "+------------+------------+--------------------+--------------------+\n",
      "only showing top 20 rows\n",
      "\n"
     ]
    }
   ],
   "source": [
    "#enrich dataset with geodata, to filter out coordinates out of NY. \n",
    "#most errors come from latitude == longitude == 0, most likely default for uninserted data\n",
    "\n",
    "geo_df = (spark.read.option(\"multiline\", \"true\").json(\"input/nyc-boroughs.geojson\")).select(explode(\"features\").alias(\"borough\"))\\\n",
    "        .select(col(\"borough.geometry\").alias(\"geometry\"),\n",
    "                col(\"borough.properties.borough\").alias(\"borough_name\"),\n",
    "                col(\"borough.properties.boroughCode\").alias(\"borough_code\"))\n",
    "\n",
    "#wkt serializes the geometry so we can store it as a string\n",
    "geo_to_poly_udf = udf(lambda geo: Polygon(geo[\"coordinates\"][0]).wkt, returnType=StringType())\n",
    "geo_to_area_udf = udf(lambda geo: Polygon(geo[\"coordinates\"][0]).area, returnType=DoubleType())\n",
    "coords_to_point_udf = udf(lambda coords: Point(coords[0], coords[1]).wkt, returnType=StringType()) # For the main dataframe\n",
    "is_point_in_polygon_udf = udf(lambda point_wkt, polygon_wkt: from_wkt(polygon_wkt).contains(from_wkt(point_wkt)), BooleanType())\n",
    "\n",
    "geo_df = geo_df.withColumn(\"poly\", geo_to_poly_udf(col(\"geometry\"))). \\\n",
    "        withColumn(\"area\", geo_to_area_udf(col(\"geometry\"))). \\\n",
    "        drop(\"geometry\"). \\\n",
    "        orderBy(\"borough_code\", desc(\"area\"))\n",
    "\n",
    "#geo_df.printSchema()\n",
    "geo_df.show()"
   ]
  },
  {
   "cell_type": "code",
   "execution_count": 9,
   "id": "41040a8f-8d06-47c5-af2d-2ad853b51d28",
   "metadata": {},
   "outputs": [
    {
     "name": "stdout",
     "output_type": "stream",
     "text": [
      "+--------------------+--------------------+-----------+------------+------------+------------+--------------------+--------------------+--------------+---------------+\n",
      "|           medallion|        hack_license|pickup_unix|dropoff_unix|duration_sec|prev_dropoff|        pickup_point|       dropoff_point|pickup_borough|dropoff_borough|\n",
      "+--------------------+--------------------+-----------+------------+------------+------------+--------------------+--------------------+--------------+---------------+\n",
      "|000318C2E3E638158...|8228633DA66E2F04F...| 1358070300|  1358070420|         120|  1358052900|         POINT (0 0)|         POINT (0 0)|           N/A|            N/A|\n",
      "|000318C2E3E638158...|8228633DA66E2F04F...| 1358070960|  1358071440|         480|  1358070420|         POINT (0 0)|         POINT (0 0)|           N/A|            N/A|\n",
      "|000318C2E3E638158...|8228633DA66E2F04F...| 1358071500|  1358071860|         360|  1358071440|         POINT (0 0)|         POINT (0 0)|           N/A|            N/A|\n",
      "|000318C2E3E638158...|8228633DA66E2F04F...| 1358073060|  1358073660|         600|  1358071860|         POINT (0 0)|         POINT (0 0)|           N/A|            N/A|\n",
      "|000318C2E3E638158...|8228633DA66E2F04F...| 1358074020|  1358074320|         300|  1358073660|         POINT (0 0)|         POINT (0 0)|           N/A|            N/A|\n",
      "|000318C2E3E638158...|8228633DA66E2F04F...| 1358074560|  1358075040|         480|  1358074320|         POINT (0 0)|         POINT (0 0)|           N/A|            N/A|\n",
      "|000318C2E3E638158...|8228633DA66E2F04F...| 1358075400|  1358076420|        1020|  1358075040|         POINT (0 0)|         POINT (0 0)|           N/A|            N/A|\n",
      "|000318C2E3E638158...|8228633DA66E2F04F...| 1358077020|  1358077380|         360|  1358076420|         POINT (0 0)|         POINT (0 0)|           N/A|            N/A|\n",
      "|000318C2E3E638158...|8228633DA66E2F04F...| 1358077920|  1358078280|         360|  1358077380|         POINT (0 0)|         POINT (0 0)|           N/A|            N/A|\n",
      "|000318C2E3E638158...|8228633DA66E2F04F...| 1358079060|  1358079540|         480|  1358078280|         POINT (0 0)|         POINT (0 0)|           N/A|            N/A|\n",
      "|000318C2E3E638158...|8228633DA66E2F04F...| 1358079840|  1358080560|         720|  1358079540|POINT (-73.993149...|POINT (-74.000214...|     Manhattan|      Manhattan|\n",
      "|000318C2E3E638158...|8228633DA66E2F04F...| 1358080740|  1358081160|         420|  1358080560|POINT (-74.000214...|POINT (-74.000214...|     Manhattan|      Manhattan|\n",
      "|000318C2E3E638158...|8228633DA66E2F04F...| 1358081460|  1358082180|         720|  1358081160|POINT (-74.000214...|POINT (-74.000214...|     Manhattan|      Manhattan|\n",
      "|000318C2E3E638158...|8228633DA66E2F04F...| 1358082480|  1358082840|         360|  1358082180|POINT (-74.000214...|POINT (-74.006126...|     Manhattan|      Manhattan|\n",
      "|000318C2E3E638158...|8228633DA66E2F04F...| 1358083440|  1358083860|         420|  1358082840|POINT (-74.008102...|POINT (-74.008102...|     Manhattan|      Manhattan|\n",
      "|000318C2E3E638158...|8228633DA66E2F04F...| 1358084280|  1358084880|         600|  1358083860|POINT (-74.008102...|POINT (-74.008102...|     Manhattan|      Manhattan|\n",
      "|000318C2E3E638158...|8228633DA66E2F04F...| 1358086440|  1358087460|        1020|  1358084880|POINT (-74.008102...|POINT (-74.008102...|     Manhattan|      Manhattan|\n",
      "|000318C2E3E638158...|8228633DA66E2F04F...| 1358088000|  1358088780|         780|  1358087460|POINT (-74.008102...|POINT (-74.008102...|     Manhattan|      Manhattan|\n",
      "|000318C2E3E638158...|8228633DA66E2F04F...| 1358088900|  1358089440|         540|  1358088780|POINT (-74.008102...|POINT (-74.008102...|     Manhattan|      Manhattan|\n",
      "|000318C2E3E638158...|8228633DA66E2F04F...| 1358089500|  1358090160|         660|  1358089440|POINT (-74.008102...|POINT (-74.008102...|     Manhattan|      Manhattan|\n",
      "+--------------------+--------------------+-----------+------------+------------+------------+--------------------+--------------------+--------------+---------------+\n",
      "only showing top 20 rows\n",
      "\n",
      "+--------------------+--------------------+-----------+------------+------------+--------------+---------------+------------+\n",
      "|           medallion|        hack_license|pickup_unix|dropoff_unix|prev_dropoff|pickup_borough|dropoff_borough|duration_sec|\n",
      "+--------------------+--------------------+-----------+------------+------------+--------------+---------------+------------+\n",
      "|0F621E366CFE63044...|A2FBB7823446266EC...| 1358060220|  1358060940|  1358052420|     Manhattan|      Manhattan|         720|\n",
      "|0F621E366CFE63044...|A2FBB7823446266EC...| 1358061060|  1358061480|  1358060940|     Manhattan|      Manhattan|         420|\n",
      "|0F621E366CFE63044...|A2FBB7823446266EC...| 1358063160|  1358064120|  1358061480|     Manhattan|       Brooklyn|         960|\n",
      "|0F621E366CFE63044...|A2FBB7823446266EC...| 1358065320|  1358065560|  1358064120|     Manhattan|      Manhattan|         240|\n",
      "|0F621E366CFE63044...|A2FBB7823446266EC...| 1358069340|  1358069940|  1358065560|     Manhattan|      Manhattan|         600|\n",
      "|0F621E366CFE63044...|A2FBB7823446266EC...| 1358071680|  1358071860|  1358069940|     Manhattan|      Manhattan|         180|\n",
      "|0F621E366CFE63044...|A2FBB7823446266EC...| 1358073300|  1358074080|  1358071860|     Manhattan|      Manhattan|         780|\n",
      "|0F621E366CFE63044...|A2FBB7823446266EC...| 1358074080|  1358074620|  1358074080|     Manhattan|      Manhattan|         540|\n",
      "|0F621E366CFE63044...|A2FBB7823446266EC...| 1358074860|  1358076120|  1358074620|     Manhattan|      Manhattan|        1260|\n",
      "|0F621E366CFE63044...|A2FBB7823446266EC...| 1358076180|  1358076660|  1358076120|     Manhattan|      Manhattan|         480|\n",
      "|0F621E366CFE63044...|A2FBB7823446266EC...| 1358076720|  1358077440|  1358076660|     Manhattan|      Manhattan|         720|\n",
      "|0F621E366CFE63044...|A2FBB7823446266EC...| 1358077740|  1358078220|  1358077440|     Manhattan|      Manhattan|         480|\n",
      "|0F621E366CFE63044...|A2FBB7823446266EC...| 1358078700|  1358078880|  1358078220|     Manhattan|      Manhattan|         180|\n",
      "|0F621E366CFE63044...|A2FBB7823446266EC...| 1358079540|  1358079780|  1358078880|     Manhattan|      Manhattan|         240|\n",
      "|0F621E366CFE63044...|A2FBB7823446266EC...| 1358080260|  1358080980|  1358079780|     Manhattan|      Manhattan|         720|\n",
      "|0F621E366CFE63044...|A2FBB7823446266EC...| 1358081460|  1358081700|  1358080980|     Manhattan|      Manhattan|         240|\n",
      "|0F621E366CFE63044...|A2FBB7823446266EC...| 1358081940|  1358082180|  1358081700|     Manhattan|      Manhattan|         240|\n",
      "|0F621E366CFE63044...|A2FBB7823446266EC...| 1358083860|  1358084760|  1358082180|     Manhattan|      Manhattan|         900|\n",
      "|0F621E366CFE63044...|A2FBB7823446266EC...| 1358085600|  1358086200|  1358084760|     Manhattan|      Manhattan|         600|\n",
      "|0F621E366CFE63044...|A2FBB7823446266EC...| 1358086200|  1358086680|  1358086200|     Manhattan|      Manhattan|         480|\n",
      "+--------------------+--------------------+-----------+------------+------------+--------------+---------------+------------+\n",
      "only showing top 20 rows\n",
      "\n"
     ]
    }
   ],
   "source": [
    "\n",
    "rides_df = rides_df.withColumn(\"pickup_point\", coords_to_point_udf(array(\"pickup_longitude\", \"pickup_latitude\"))) \\\n",
    "    .withColumn(\"dropoff_point\", coords_to_point_udf(array(\"dropoff_longitude\", \"dropoff_latitude\"))) \\\n",
    "    .drop(\"pickup_longitude\", \"pickup_latitude\", \"dropoff_longitude\", \"dropoff_latitude\")\n",
    "borough_lookup = spark.sparkContext.broadcast(geo_df.collect())\n",
    "\n",
    "# UDF to find borough for a given point\n",
    "find_borough_udf = udf(lambda point_wkt: \n",
    "    next((b['borough_name'] for b in borough_lookup.value\n",
    "          if point_wkt and from_wkt(b['poly']).contains(from_wkt(point_wkt))),\n",
    "         \"N/A\"),\n",
    "    StringType()\n",
    ")\n",
    "# Add pickup and dropoff borough columns\n",
    "rides_df = rides_df.withColumn(\"pickup_borough\", find_borough_udf(col(\"pickup_point\"))) \\\n",
    "                    .withColumn(\"dropoff_borough\", find_borough_udf(col(\"dropoff_point\")))\n",
    "rides_df.show()\n",
    "\n",
    "#remove wronf areas / coordinates out of NY \n",
    "rides_df = rides_df.filter(\n",
    "    (col(\"pickup_borough\") != \"N/A\") & (col(\"dropoff_borough\") != \"N/A\")\n",
    ")\n",
    "rides_df = rides_df.select( #point info is no longer needed\n",
    "    \"medallion\",\n",
    "    \"hack_license\",\n",
    "    \"pickup_unix\",\n",
    "    \"dropoff_unix\",\n",
    "    \"prev_dropoff\",\n",
    "    \"pickup_borough\",\n",
    "    \"dropoff_borough\",\n",
    "    \"duration_sec\"\n",
    "    )\n",
    "rides_df.cache()\n",
    "rides_df.show()\n"
   ]
  },
  {
   "cell_type": "markdown",
   "id": "d04f45a9-6cb5-4700-8537-1bed3a02d5a7",
   "metadata": {},
   "source": [
    "## Query 1\n",
    "\n",
    "In this query we calculate utilization per taxi/driver."
   ]
  },
  {
   "cell_type": "code",
   "execution_count": 10,
   "id": "3e5e7533-a3c7-4236-9dea-20c75f230425",
   "metadata": {},
   "outputs": [
    {
     "name": "stdout",
     "output_type": "stream",
     "text": [
      "+--------------------+-------------------+\n",
      "|        hack_license|total_idle_time_sec|\n",
      "+--------------------+-------------------+\n",
      "|F82F2D204CF1C46A0...|               8400|\n",
      "|947188A407BD268A1...|              13800|\n",
      "|0E10C5D6B0E2D6E8A...|               3120|\n",
      "|C8D349DC61BCD170E...|              21840|\n",
      "|1F0477B7D3D6875E9...|               5700|\n",
      "|E068AB00893B201EF...|                840|\n",
      "|8B36DB23030FADC26...|               3540|\n",
      "|483C1649342D0F0DF...|               5160|\n",
      "|87D96A0E5D07050E2...|               9420|\n",
      "|28EDC56C602EFFD20...|               8100|\n",
      "|79424BE1D08B22D18...|              19980|\n",
      "|F3DC889B956BA8AE3...|               9600|\n",
      "|964BBE98ACEB562E3...|               8520|\n",
      "|FC7A9C509F604338E...|              23340|\n",
      "|03FDF6D5A6377FAED...|              13860|\n",
      "|26516CD746248B349...|               3240|\n",
      "|A2FBB7823446266EC...|              30600|\n",
      "|68BD97EA39D32B9D0...|               5340|\n",
      "|43642DE3866FA9B46...|               7620|\n",
      "|2CB3F9DFF22D79C50...|              15360|\n",
      "+--------------------+-------------------+\n",
      "only showing top 20 rows\n",
      "\n"
     ]
    }
   ],
   "source": [
    "# Re-declare 4 hour threshold\n",
    "DRIVER_SESSION_LENGTH = 14400 # 4 hours in seconds\n",
    "# Sort by driver ID and pickup time so trips for each driver are in chronological order \n",
    "#q1_df = rides_df.orderBy(\"hack_license\", \"pickup_datetime\")\n",
    "\n",
    "# Separate data by driver and order by pickup time\n",
    "#window_spec = Window.partitionBy(\"hack_license\").orderBy(\"pickup_unix\")\n",
    "\n",
    "# Include previous dropoff time and idle time (if idle time is < 4 hours, else 0)\n",
    "rides_df = rides_df.withColumn(\"idle_time_sec\", \n",
    "                               when((col(\"pickup_unix\") - col(\"prev_dropoff\")) < DRIVER_SESSION_LENGTH,\n",
    "                                    col(\"pickup_unix\") - col(\"prev_dropoff\"))\n",
    "                               .otherwise(0))\n",
    "\n",
    "# Filter out rows with 0 idle_time, group by driver id, sum total idle time for each driver\n",
    "idle_time_df = rides_df.filter(col(\"idle_time_sec\") > 0) \\\n",
    "                       .groupBy(\"hack_license\") \\\n",
    "                       .sum(\"idle_time_sec\") \\\n",
    "                       .withColumnRenamed(\"sum(idle_time_sec)\", \"total_idle_time_sec\")\n",
    "# Output table of total IDLE time per driver\n",
    "idle_time_df.show()"
   ]
  },
  {
   "cell_type": "code",
   "execution_count": 11,
   "id": "227935fc-373f-4bf7-a8a2-b652fc09b35a",
   "metadata": {},
   "outputs": [
    {
     "name": "stdout",
     "output_type": "stream",
     "text": [
      "+--------------------+------------------+\n",
      "|        hack_license|  utilization_rate|\n",
      "+--------------------+------------------+\n",
      "|31A1F192A01B30B2C...|0.9814814814814815|\n",
      "|B24D87EA86C349F5B...| 0.975609756097561|\n",
      "|751EE304AD669A5C9...|0.9714285714285714|\n",
      "|25D94112137704AE1...|0.9672131147540983|\n",
      "|5DE0F6ED31F876A28...|0.9666666666666667|\n",
      "|C0EE8542372531D13...|0.9629629629629629|\n",
      "|1603132156F27D303...|0.9629629629629629|\n",
      "|FCA573D9BDC079E5B...|0.9545454545454546|\n",
      "|FFCA9A4561F852F8A...|0.9444444444444444|\n",
      "|49365436007E31EE7...|0.9444444444444444|\n",
      "|B82B10A5122179C6E...|0.9428571428571428|\n",
      "|106334C1F3774F8DD...|0.9423076923076923|\n",
      "|E07F31E8CEEFFB2F5...|              0.94|\n",
      "|83306E622A540656D...|            0.9375|\n",
      "|079EBA6BAA38B2CF4...|0.9298245614035088|\n",
      "|289D3869420220BF3...| 0.926829268292683|\n",
      "|09D6790EE915F62A2...|0.9253731343283582|\n",
      "|4277D4DA08B3AFED2...|0.9230769230769231|\n",
      "|FACF7B2B9439B6D3E...|              0.92|\n",
      "|8FF3739BF40D13FF2...|0.9183673469387755|\n",
      "+--------------------+------------------+\n",
      "only showing top 20 rows\n",
      "\n"
     ]
    }
   ],
   "source": [
    "# Calc total ACTIVE times by summing all ride durations (for each driver)\n",
    "\n",
    "# Subtract the times to find the difference (in seconds)\n",
    "\n",
    "active_time_df = rides_df.groupBy(\"hack_license\") \\\n",
    "                        .sum(\"duration_sec\") \\\n",
    "                        .withColumnRenamed(\"sum(duration_sec)\", \"total_active_time_sec\")\n",
    "\n",
    "# Join with IDLE time data\n",
    "driver_times_df = active_time_df.join(idle_time_df, \"hack_license\")\n",
    "\n",
    "# Calc total SESSION times by summing idle and ACTIVE times\n",
    "# Calc utilization rate difference: ACTIVE/SESSION\n",
    "utilization_df = driver_times_df.withColumn(\n",
    "    \"total_session_time\", \n",
    "    col(\"total_active_time_sec\") + col(\"total_idle_time_sec\")\n",
    ").withColumn(\n",
    "    \"utilization_rate\", \n",
    "    col(\"total_active_time_sec\") / col(\"total_session_time\")\n",
    ")\n",
    "\n",
    "# Output sorted table for verification\n",
    "utilization_df.select(\"hack_license\", \"utilization_rate\").orderBy(\"utilization_rate\", ascending=False).show()"
   ]
  },
  {
   "cell_type": "markdown",
   "id": "bfb7de16-849a-4a4c-be63-bb23b98e7791",
   "metadata": {},
   "source": [
    "## Query 2\n",
    "\n",
    "In this query we calculate the average time it takes for a taxi to find its next fare(trip) per destination borough.\n",
    "\n",
    "*The difference (in seconds) between the drop off of a trip and the pick up of the next trip*"
   ]
  },
  {
   "cell_type": "code",
   "execution_count": 12,
   "id": "b7c1562a-3089-4459-95b0-344636296f77",
   "metadata": {},
   "outputs": [
    {
     "name": "stdout",
     "output_type": "stream",
     "text": [
      "+---------------+----------------------+\n",
      "|dropoff_borough|avg_next_fare_time_sec|\n",
      "+---------------+----------------------+\n",
      "|      Manhattan|     857.0868687401855|\n",
      "|       Brooklyn|    1942.4757505773673|\n",
      "|          Bronx|    2081.3076923076924|\n",
      "|         Queens|    2617.9843285598486|\n",
      "|  Staten Island|                4350.0|\n",
      "+---------------+----------------------+\n",
      "\n"
     ]
    }
   ],
   "source": [
    "window_spec = Window.partitionBy(\"hack_license\").orderBy(\"pickup_unix\")\n",
    "# Calc next fare time by borough - Filter out nulls and 4 hours\n",
    "next_fare_df = rides_df.withColumn(\"next_pickup_unix\", \n",
    "                                  lead(\"pickup_unix\").over(window_spec)) \\\n",
    "                       .withColumn(\"next_fare_time\", \n",
    "                                  when(col(\"next_pickup_unix\").isNotNull(), \n",
    "                                       col(\"next_pickup_unix\") - col(\"dropoff_unix\"))\n",
    "                                  .otherwise(None)) \\\n",
    "                       .filter(col(\"next_fare_time\").isNotNull() & \n",
    "                              (col(\"next_fare_time\") <= DRIVER_SESSION_LENGTH))\n",
    "\n",
    "# Calc avg. next fare time by dropoff borough and sort\n",
    "avg_next_fare_by_borough = next_fare_df.groupBy(\"dropoff_borough\") \\\n",
    "                                       .agg(avg(\"next_fare_time\").alias(\"avg_next_fare_time_sec\")) \\\n",
    "                                       .orderBy(\"avg_next_fare_time_sec\")\n",
    "\n",
    "# Show results\n",
    "avg_next_fare_by_borough.show()"
   ]
  },
  {
   "cell_type": "markdown",
   "id": "d26061ba-1aee-495f-b879-772cac80a188",
   "metadata": {},
   "source": [
    "## Query 3\n",
    "\n",
    "The number of trips that started and ended within the same borough"
   ]
  },
  {
   "cell_type": "code",
   "execution_count": 13,
   "id": "d48a4917",
   "metadata": {},
   "outputs": [],
   "source": [
    "# Query 3. The number of trips that started and ended within the same borough\n",
    "same_borough_trips = rides_df.filter(col(\"pickup_borough\") == col(\"dropoff_borough\"))\n",
    "\n",
    "# Count those trips\n",
    "total_same_borough = same_borough_trips.count()\n"
   ]
  },
  {
   "cell_type": "code",
   "execution_count": 14,
   "id": "9f8715c9",
   "metadata": {},
   "outputs": [
    {
     "data": {
      "text/plain": [
       "81432"
      ]
     },
     "execution_count": 14,
     "metadata": {},
     "output_type": "execute_result"
    }
   ],
   "source": [
    "total_same_borough"
   ]
  },
  {
   "cell_type": "markdown",
   "id": "15c1cf21-70a7-42b6-8313-55850557c9a8",
   "metadata": {},
   "source": [
    "## Query 4\n",
    "\n",
    "The number of trips that started and ended within the same borough"
   ]
  },
  {
   "cell_type": "code",
   "execution_count": 15,
   "id": "ee93f949",
   "metadata": {},
   "outputs": [
    {
     "data": {
      "text/plain": [
       "9864"
      ]
     },
     "execution_count": 15,
     "metadata": {},
     "output_type": "execute_result"
    }
   ],
   "source": [
    "# Query 4. The number of trips that started in one borough and ended in another one\n",
    "\n",
    "rides_df.count() - total_same_borough"
   ]
  }
 ],
 "metadata": {
  "kernelspec": {
   "display_name": "Python 3 (ipykernel)",
   "language": "python",
   "name": "python3"
  },
  "language_info": {
   "codemirror_mode": {
    "name": "ipython",
    "version": 3
   },
   "file_extension": ".py",
   "mimetype": "text/x-python",
   "name": "python",
   "nbconvert_exporter": "python",
   "pygments_lexer": "ipython3",
   "version": "3.11.10"
  }
 },
 "nbformat": 4,
 "nbformat_minor": 5
}
